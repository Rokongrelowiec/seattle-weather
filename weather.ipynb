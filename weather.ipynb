{
 "cells": [
  {
   "cell_type": "markdown",
   "metadata": {},
   "source": [
    "# Neural network for weather prediction (drizzle/fog/rain/snow/sun) per variable container (rainfall/maximum temperature/minimum temperature/wind).\n",
    "\n",
    "## Based on data for the city of Seattle (USA) collected in 2012-2015."
   ]
  },
  {
   "cell_type": "markdown",
   "metadata": {},
   "source": [
    "## Data visualization"
   ]
  },
  {
   "cell_type": "markdown",
   "metadata": {},
   "source": [
    "### Initial data exploration"
   ]
  },
  {
   "cell_type": "code",
   "execution_count": 1,
   "metadata": {},
   "outputs": [],
   "source": [
    "import numpy as np\n",
    "import pandas as pd\n",
    "import matplotlib.pyplot as plt"
   ]
  },
  {
   "cell_type": "code",
   "execution_count": 2,
   "metadata": {},
   "outputs": [
    {
     "data": {
      "text/html": [
       "<div>\n",
       "<style scoped>\n",
       "    .dataframe tbody tr th:only-of-type {\n",
       "        vertical-align: middle;\n",
       "    }\n",
       "\n",
       "    .dataframe tbody tr th {\n",
       "        vertical-align: top;\n",
       "    }\n",
       "\n",
       "    .dataframe thead th {\n",
       "        text-align: right;\n",
       "    }\n",
       "</style>\n",
       "<table border=\"1\" class=\"dataframe\">\n",
       "  <thead>\n",
       "    <tr style=\"text-align: right;\">\n",
       "      <th></th>\n",
       "      <th>date</th>\n",
       "      <th>precipitation</th>\n",
       "      <th>temp_max</th>\n",
       "      <th>temp_min</th>\n",
       "      <th>wind</th>\n",
       "      <th>weather</th>\n",
       "    </tr>\n",
       "  </thead>\n",
       "  <tbody>\n",
       "    <tr>\n",
       "      <th>0</th>\n",
       "      <td>2012-01-01</td>\n",
       "      <td>0.0</td>\n",
       "      <td>12.8</td>\n",
       "      <td>5.0</td>\n",
       "      <td>4.7</td>\n",
       "      <td>drizzle</td>\n",
       "    </tr>\n",
       "    <tr>\n",
       "      <th>1</th>\n",
       "      <td>2012-01-02</td>\n",
       "      <td>10.9</td>\n",
       "      <td>10.6</td>\n",
       "      <td>2.8</td>\n",
       "      <td>4.5</td>\n",
       "      <td>rain</td>\n",
       "    </tr>\n",
       "    <tr>\n",
       "      <th>2</th>\n",
       "      <td>2012-01-03</td>\n",
       "      <td>0.8</td>\n",
       "      <td>11.7</td>\n",
       "      <td>7.2</td>\n",
       "      <td>2.3</td>\n",
       "      <td>rain</td>\n",
       "    </tr>\n",
       "    <tr>\n",
       "      <th>3</th>\n",
       "      <td>2012-01-04</td>\n",
       "      <td>20.3</td>\n",
       "      <td>12.2</td>\n",
       "      <td>5.6</td>\n",
       "      <td>4.7</td>\n",
       "      <td>rain</td>\n",
       "    </tr>\n",
       "    <tr>\n",
       "      <th>4</th>\n",
       "      <td>2012-01-05</td>\n",
       "      <td>1.3</td>\n",
       "      <td>8.9</td>\n",
       "      <td>2.8</td>\n",
       "      <td>6.1</td>\n",
       "      <td>rain</td>\n",
       "    </tr>\n",
       "  </tbody>\n",
       "</table>\n",
       "</div>"
      ],
      "text/plain": [
       "         date  precipitation  temp_max  temp_min  wind  weather\n",
       "0  2012-01-01            0.0      12.8       5.0   4.7  drizzle\n",
       "1  2012-01-02           10.9      10.6       2.8   4.5     rain\n",
       "2  2012-01-03            0.8      11.7       7.2   2.3     rain\n",
       "3  2012-01-04           20.3      12.2       5.6   4.7     rain\n",
       "4  2012-01-05            1.3       8.9       2.8   6.1     rain"
      ]
     },
     "execution_count": 2,
     "metadata": {},
     "output_type": "execute_result"
    }
   ],
   "source": [
    "# read data frame from file\n",
    "df = pd.read_csv('seattle-weather.csv')\n",
    "# view the first 5 rows in the data frame\n",
    "df.head()"
   ]
  },
  {
   "cell_type": "code",
   "execution_count": 3,
   "metadata": {},
   "outputs": [
    {
     "data": {
      "text/plain": [
       "weather\n",
       "rain       641\n",
       "sun        640\n",
       "fog        101\n",
       "drizzle     53\n",
       "snow        26\n",
       "Name: count, dtype: int64"
      ]
     },
     "execution_count": 3,
     "metadata": {},
     "output_type": "execute_result"
    }
   ],
   "source": [
    "df['weather'].value_counts()"
   ]
  },
  {
   "cell_type": "code",
   "execution_count": 4,
   "metadata": {},
   "outputs": [
    {
     "data": {
      "text/plain": [
       "date             0\n",
       "precipitation    0\n",
       "temp_max         0\n",
       "temp_min         0\n",
       "wind             0\n",
       "weather          0\n",
       "dtype: int64"
      ]
     },
     "execution_count": 4,
     "metadata": {},
     "output_type": "execute_result"
    }
   ],
   "source": [
    "df.isna().sum()"
   ]
  },
  {
   "cell_type": "code",
   "execution_count": 5,
   "metadata": {},
   "outputs": [
    {
     "name": "stdout",
     "output_type": "stream",
     "text": [
      "<class 'pandas.core.frame.DataFrame'>\n",
      "RangeIndex: 1461 entries, 0 to 1460\n",
      "Data columns (total 6 columns):\n",
      " #   Column         Non-Null Count  Dtype  \n",
      "---  ------         --------------  -----  \n",
      " 0   date           1461 non-null   object \n",
      " 1   precipitation  1461 non-null   float64\n",
      " 2   temp_max       1461 non-null   float64\n",
      " 3   temp_min       1461 non-null   float64\n",
      " 4   wind           1461 non-null   float64\n",
      " 5   weather        1461 non-null   object \n",
      "dtypes: float64(4), object(2)\n",
      "memory usage: 68.6+ KB\n"
     ]
    }
   ],
   "source": [
    "df.info()"
   ]
  },
  {
   "cell_type": "code",
   "execution_count": 6,
   "metadata": {},
   "outputs": [
    {
     "data": {
      "text/html": [
       "<div>\n",
       "<style scoped>\n",
       "    .dataframe tbody tr th:only-of-type {\n",
       "        vertical-align: middle;\n",
       "    }\n",
       "\n",
       "    .dataframe tbody tr th {\n",
       "        vertical-align: top;\n",
       "    }\n",
       "\n",
       "    .dataframe thead th {\n",
       "        text-align: right;\n",
       "    }\n",
       "</style>\n",
       "<table border=\"1\" class=\"dataframe\">\n",
       "  <thead>\n",
       "    <tr style=\"text-align: right;\">\n",
       "      <th></th>\n",
       "      <th>precipitation</th>\n",
       "      <th>temp_max</th>\n",
       "      <th>temp_min</th>\n",
       "      <th>wind</th>\n",
       "    </tr>\n",
       "  </thead>\n",
       "  <tbody>\n",
       "    <tr>\n",
       "      <th>count</th>\n",
       "      <td>1461.000000</td>\n",
       "      <td>1461.000000</td>\n",
       "      <td>1461.000000</td>\n",
       "      <td>1461.000000</td>\n",
       "    </tr>\n",
       "    <tr>\n",
       "      <th>mean</th>\n",
       "      <td>3.029432</td>\n",
       "      <td>16.439083</td>\n",
       "      <td>8.234771</td>\n",
       "      <td>3.241136</td>\n",
       "    </tr>\n",
       "    <tr>\n",
       "      <th>std</th>\n",
       "      <td>6.680194</td>\n",
       "      <td>7.349758</td>\n",
       "      <td>5.023004</td>\n",
       "      <td>1.437825</td>\n",
       "    </tr>\n",
       "    <tr>\n",
       "      <th>min</th>\n",
       "      <td>0.000000</td>\n",
       "      <td>-1.600000</td>\n",
       "      <td>-7.100000</td>\n",
       "      <td>0.400000</td>\n",
       "    </tr>\n",
       "    <tr>\n",
       "      <th>25%</th>\n",
       "      <td>0.000000</td>\n",
       "      <td>10.600000</td>\n",
       "      <td>4.400000</td>\n",
       "      <td>2.200000</td>\n",
       "    </tr>\n",
       "    <tr>\n",
       "      <th>50%</th>\n",
       "      <td>0.000000</td>\n",
       "      <td>15.600000</td>\n",
       "      <td>8.300000</td>\n",
       "      <td>3.000000</td>\n",
       "    </tr>\n",
       "    <tr>\n",
       "      <th>75%</th>\n",
       "      <td>2.800000</td>\n",
       "      <td>22.200000</td>\n",
       "      <td>12.200000</td>\n",
       "      <td>4.000000</td>\n",
       "    </tr>\n",
       "    <tr>\n",
       "      <th>max</th>\n",
       "      <td>55.900000</td>\n",
       "      <td>35.600000</td>\n",
       "      <td>18.300000</td>\n",
       "      <td>9.500000</td>\n",
       "    </tr>\n",
       "  </tbody>\n",
       "</table>\n",
       "</div>"
      ],
      "text/plain": [
       "       precipitation     temp_max     temp_min         wind\n",
       "count    1461.000000  1461.000000  1461.000000  1461.000000\n",
       "mean        3.029432    16.439083     8.234771     3.241136\n",
       "std         6.680194     7.349758     5.023004     1.437825\n",
       "min         0.000000    -1.600000    -7.100000     0.400000\n",
       "25%         0.000000    10.600000     4.400000     2.200000\n",
       "50%         0.000000    15.600000     8.300000     3.000000\n",
       "75%         2.800000    22.200000    12.200000     4.000000\n",
       "max        55.900000    35.600000    18.300000     9.500000"
      ]
     },
     "execution_count": 6,
     "metadata": {},
     "output_type": "execute_result"
    }
   ],
   "source": [
    "df.describe()"
   ]
  },
  {
   "cell_type": "code",
   "execution_count": 7,
   "metadata": {},
   "outputs": [
    {
     "data": {
      "text/plain": [
       "weather\n",
       "rain       641\n",
       "sun        640\n",
       "fog        101\n",
       "drizzle     53\n",
       "snow        26\n",
       "Name: count, dtype: int64"
      ]
     },
     "execution_count": 7,
     "metadata": {},
     "output_type": "execute_result"
    }
   ],
   "source": [
    "df['weather'].value_counts()"
   ]
  },
  {
   "cell_type": "code",
   "execution_count": 8,
   "metadata": {},
   "outputs": [
    {
     "data": {
      "image/png": "[encoded data removed]",
      "text/plain": [
       "<Figure size 640x480 with 1 Axes>"
      ]
     },
     "metadata": {},
     "output_type": "display_data"
    }
   ],
   "source": [
    "plt.hist(df['weather'], color='dodgerblue')\n",
    "plt.show()"
   ]
  },
  {
   "cell_type": "code",
   "execution_count": 9,
   "metadata": {},
   "outputs": [
    {
     "data": {
      "image/png": "[encoded data removed]",
      "text/plain": [
       "<Figure size 640x480 with 1 Axes>"
      ]
     },
     "metadata": {},
     "output_type": "display_data"
    },
    {
     "data": {
      "image/png": "[encoded data removed]",
      "text/plain": [
       "<Figure size 640x480 with 1 Axes>"
      ]
     },
     "metadata": {},
     "output_type": "display_data"
    },
    {
     "data": {
      "image/png": "[encoded data removed]",
      "text/plain": [
       "<Figure size 640x480 with 1 Axes>"
      ]
     },
     "metadata": {},
     "output_type": "display_data"
    },
    {
     "data": {
      "image/png": "[encoded data removed]",
      "text/plain": [
       "<Figure size 640x480 with 1 Axes>"
      ]
     },
     "metadata": {},
     "output_type": "display_data"
    }
   ],
   "source": [
    "for i in df.columns.drop(['date', 'weather']):\n",
    "    df.boxplot(by='weather', column=i)"
   ]
  },
  {
   "cell_type": "code",
   "execution_count": 10,
   "metadata": {},
   "outputs": [
    {
     "data": {
      "text/html": [
       "<style type=\"text/css\">\n",
       "#T_efd56_row0_col0, #T_efd56_row1_col1, #T_efd56_row2_col2, #T_efd56_row3_col3 {\n",
       "  background-color: #fc7f00;\n",
       "  color: #f1f1f1;\n",
       "}\n",
       "#T_efd56_row0_col1, #T_efd56_row0_col2, #T_efd56_row1_col0, #T_efd56_row1_col3, #T_efd56_row3_col2 {\n",
       "  background-color: #e4ff7a;\n",
       "  color: #000000;\n",
       "}\n",
       "#T_efd56_row0_col3 {\n",
       "  background-color: #ffca08;\n",
       "  color: #000000;\n",
       "}\n",
       "#T_efd56_row1_col2 {\n",
       "  background-color: #fd8e00;\n",
       "  color: #f1f1f1;\n",
       "}\n",
       "#T_efd56_row2_col0 {\n",
       "  background-color: #f2f34a;\n",
       "  color: #000000;\n",
       "}\n",
       "#T_efd56_row2_col1 {\n",
       "  background-color: #fd8c00;\n",
       "  color: #f1f1f1;\n",
       "}\n",
       "#T_efd56_row2_col3 {\n",
       "  background-color: #ecf85d;\n",
       "  color: #000000;\n",
       "}\n",
       "#T_efd56_row3_col0 {\n",
       "  background-color: #ffc505;\n",
       "  color: #000000;\n",
       "}\n",
       "#T_efd56_row3_col1 {\n",
       "  background-color: #eafa66;\n",
       "  color: #000000;\n",
       "}\n",
       "</style>\n",
       "<table id=\"T_efd56\">\n",
       "  <thead>\n",
       "    <tr>\n",
       "      <th class=\"blank level0\" >&nbsp;</th>\n",
       "      <th id=\"T_efd56_level0_col0\" class=\"col_heading level0 col0\" >precipitation</th>\n",
       "      <th id=\"T_efd56_level0_col1\" class=\"col_heading level0 col1\" >temp_max</th>\n",
       "      <th id=\"T_efd56_level0_col2\" class=\"col_heading level0 col2\" >temp_min</th>\n",
       "      <th id=\"T_efd56_level0_col3\" class=\"col_heading level0 col3\" >wind</th>\n",
       "    </tr>\n",
       "  </thead>\n",
       "  <tbody>\n",
       "    <tr>\n",
       "      <th id=\"T_efd56_level0_row0\" class=\"row_heading level0 row0\" >precipitation</th>\n",
       "      <td id=\"T_efd56_row0_col0\" class=\"data row0 col0\" >1.000000</td>\n",
       "      <td id=\"T_efd56_row0_col1\" class=\"data row0 col1\" >-0.228555</td>\n",
       "      <td id=\"T_efd56_row0_col2\" class=\"data row0 col2\" >-0.072684</td>\n",
       "      <td id=\"T_efd56_row0_col3\" class=\"data row0 col3\" >0.328045</td>\n",
       "    </tr>\n",
       "    <tr>\n",
       "      <th id=\"T_efd56_level0_row1\" class=\"row_heading level0 row1\" >temp_max</th>\n",
       "      <td id=\"T_efd56_row1_col0\" class=\"data row1 col0\" >-0.228555</td>\n",
       "      <td id=\"T_efd56_row1_col1\" class=\"data row1 col1\" >1.000000</td>\n",
       "      <td id=\"T_efd56_row1_col2\" class=\"data row1 col2\" >0.875687</td>\n",
       "      <td id=\"T_efd56_row1_col3\" class=\"data row1 col3\" >-0.164857</td>\n",
       "    </tr>\n",
       "    <tr>\n",
       "      <th id=\"T_efd56_level0_row2\" class=\"row_heading level0 row2\" >temp_min</th>\n",
       "      <td id=\"T_efd56_row2_col0\" class=\"data row2 col0\" >-0.072684</td>\n",
       "      <td id=\"T_efd56_row2_col1\" class=\"data row2 col1\" >0.875687</td>\n",
       "      <td id=\"T_efd56_row2_col2\" class=\"data row2 col2\" >1.000000</td>\n",
       "      <td id=\"T_efd56_row2_col3\" class=\"data row2 col3\" >-0.074185</td>\n",
       "    </tr>\n",
       "    <tr>\n",
       "      <th id=\"T_efd56_level0_row3\" class=\"row_heading level0 row3\" >wind</th>\n",
       "      <td id=\"T_efd56_row3_col0\" class=\"data row3 col0\" >0.328045</td>\n",
       "      <td id=\"T_efd56_row3_col1\" class=\"data row3 col1\" >-0.164857</td>\n",
       "      <td id=\"T_efd56_row3_col2\" class=\"data row3 col2\" >-0.074185</td>\n",
       "      <td id=\"T_efd56_row3_col3\" class=\"data row3 col3\" >1.000000</td>\n",
       "    </tr>\n",
       "  </tbody>\n",
       "</table>\n"
      ],
      "text/plain": [
       "<pandas.io.formats.style.Styler at 0x16874ed90>"
      ]
     },
     "execution_count": 10,
     "metadata": {},
     "output_type": "execute_result"
    }
   ],
   "source": [
    "df.corr(numeric_only = True).style.background_gradient('Wistia')"
   ]
  },
  {
   "cell_type": "code",
   "execution_count": 11,
   "metadata": {},
   "outputs": [
    {
     "data": {
      "text/plain": [
       "array(['drizzle', 'fog', 'rain', 'snow', 'sun'], dtype=object)"
      ]
     },
     "execution_count": 11,
     "metadata": {},
     "output_type": "execute_result"
    }
   ],
   "source": [
    "weather_unique_lbs = np.unique(df['weather'].values)\n",
    "weather_unique_lbs"
   ]
  },
  {
   "cell_type": "code",
   "execution_count": 12,
   "metadata": {},
   "outputs": [
    {
     "data": {
      "text/plain": [
       "[0, 192, 1, 13, 7]"
      ]
     },
     "execution_count": 12,
     "metadata": {},
     "output_type": "execute_result"
    }
   ],
   "source": [
    "idx_lst = []\n",
    "for i in weather_unique_lbs:\n",
    "    idx = df[df['weather'] == i]['weather'].index[0]\n",
    "    idx_lst.append(idx)\n",
    "# list containing the first occurrence of each weather type in the table\n",
    "idx_lst"
   ]
  },
  {
   "cell_type": "code",
   "execution_count": 13,
   "metadata": {},
   "outputs": [
    {
     "data": {
      "text/plain": [
       "(2012, 2015)"
      ]
     },
     "execution_count": 13,
     "metadata": {},
     "output_type": "execute_result"
    }
   ],
   "source": [
    "start_y = int(df['date'].dropna().min()[:4])\n",
    "end_y = int(df['date'].dropna().max()[:4])\n",
    "# years of our data coverage\n",
    "start_y, end_y"
   ]
  },
  {
   "cell_type": "markdown",
   "metadata": {},
   "source": [
    "### Extract average data for each year\n",
    "#### Objects (dictionaries) weather0 - weather4 are created that correspond to each type of weather.\n",
    "#### These objects have a key as a year and a value as a list consisting of averaged values ​​for: precipitation, maximum temperature, minimum temperature and wind"
   ]
  },
  {
   "cell_type": "code",
   "execution_count": 14,
   "metadata": {},
   "outputs": [
    {
     "name": "stdout",
     "output_type": "stream",
     "text": [
      "{2012: [0.0, 17.374193548387094, 8.667741935483871, 2.512903225806452], 2013: [0.0, 7.4399999999999995, 0.66, 2.0000000000000004], 2014: [], 2015: [0.0, 27.700000000000006, 14.042857142857144, 2.5142857142857147]}\n",
      "{2012: [0.0, 21.1, 9.34, 2.4200000000000004], 2013: [0.0, 19.387500000000003, 9.89375, 2.1125], 2014: [0.0, 17.84642857142857, 8.678571428571429, 2.7678571428571432], 2015: [0.0, 14.944230769230769, 6.882692307692308, 2.446153846153846]}\n",
      "{2012: [5.37329842931937, 12.807329842931937, 6.76439790575916, 3.625130890052356], 2013: [5.151898734177215, 13.625316455696204, 7.907594936708861, 3.573417721518987], 2014: [8.270945945945945, 14.207432432432434, 8.287162162162161, 3.8837837837837834], 2015: [7.91111111111111, 13.352083333333333, 7.614583333333333, 3.615277777777778]}\n",
      "{2012: [9.50952380952381, 5.395238095238096, 0.3047619047619048, 4.480952380952381], 2013: [4.666666666666667, 7.2, 0.7333333333333334, 3.5666666666666664], 2014: [4.35, 5.0, -2.4, 4.949999999999999], 2015: []}\n",
      "{2012: [0.0, 20.234745762711864, 8.933898305084746, 3.1203389830508472], 2013: [0.0, 18.87456647398844, 8.996531791907515, 2.66878612716763], 2014: [0.0, 19.203743315508024, 9.075401069518716, 3.071122994652406], 2015: [0.0, 21.40432098765432, 10.32283950617284, 3.0117283950617284]}\n"
     ]
    }
   ],
   "source": [
    "# weather_0 = {2012: [p, tmax, tmin, wind]}\n",
    "weather_0 = {k: [] for k in range(start_y, end_y+1)}\n",
    "weather_1 = {k: [] for k in range(start_y, end_y+1)}\n",
    "weather_2 = {k: [] for k in range(start_y, end_y+1)}\n",
    "weather_3 = {k: [] for k in range(start_y, end_y+1)}\n",
    "weather_4 = {k: [] for k in range(start_y, end_y+1)}\n",
    "for y in range(start_y, end_y+1):\n",
    "    for i, w in {'drizzle': weather_0, 'fog': weather_1, 'rain': weather_2, 'snow': weather_3, 'sun': weather_4}.items():\n",
    "        if len(df[(df['weather'] == i) & (df['date'].str.startswith(str(y)))]):\n",
    "            m = df[(df['weather'] == i) & (df['date'].str.startswith(str(y)))].mean(numeric_only=True)\n",
    "            w[y].append(m['precipitation'])\n",
    "            w[y].append(m['temp_max'])\n",
    "            w[y].append(m['temp_min'])\n",
    "            w[y].append(m['wind'])\n",
    "print(weather_0)\n",
    "print(weather_1)\n",
    "print(weather_2)\n",
    "print(weather_3)\n",
    "print(weather_4)"
   ]
  },
  {
   "cell_type": "markdown",
   "metadata": {},
   "source": [
    "#### Function that replaces the value of an empty list (in the above objects) with the value None (making it easier to create a chart)"
   ]
  },
  {
   "cell_type": "code",
   "execution_count": 15,
   "metadata": {},
   "outputs": [],
   "source": [
    "def replace_with_none(dct):\n",
    "    for k, v in dct.items():\n",
    "        if not v:\n",
    "            dct[k] = None\n",
    "    return dct"
   ]
  },
  {
   "cell_type": "markdown",
   "metadata": {},
   "source": [
    "#### Calling functions on objects"
   ]
  },
  {
   "cell_type": "code",
   "execution_count": 16,
   "metadata": {},
   "outputs": [],
   "source": [
    "weather_0 = replace_with_none(weather_0)\n",
    "weather_1 = replace_with_none(weather_1)\n",
    "weather_2 = replace_with_none(weather_2)\n",
    "weather_3 = replace_with_none(weather_3)\n",
    "weather_4 = replace_with_none(weather_4)"
   ]
  },
  {
   "cell_type": "markdown",
   "metadata": {},
   "source": [
    "#### Preview of object values"
   ]
  },
  {
   "cell_type": "code",
   "execution_count": 17,
   "metadata": {},
   "outputs": [
    {
     "name": "stdout",
     "output_type": "stream",
     "text": [
      "{2012: [0.0, 17.374193548387094, 8.667741935483871, 2.512903225806452], 2013: [0.0, 7.4399999999999995, 0.66, 2.0000000000000004], 2014: None, 2015: [0.0, 27.700000000000006, 14.042857142857144, 2.5142857142857147]}\n",
      "{2012: [0.0, 21.1, 9.34, 2.4200000000000004], 2013: [0.0, 19.387500000000003, 9.89375, 2.1125], 2014: [0.0, 17.84642857142857, 8.678571428571429, 2.7678571428571432], 2015: [0.0, 14.944230769230769, 6.882692307692308, 2.446153846153846]}\n",
      "{2012: [5.37329842931937, 12.807329842931937, 6.76439790575916, 3.625130890052356], 2013: [5.151898734177215, 13.625316455696204, 7.907594936708861, 3.573417721518987], 2014: [8.270945945945945, 14.207432432432434, 8.287162162162161, 3.8837837837837834], 2015: [7.91111111111111, 13.352083333333333, 7.614583333333333, 3.615277777777778]}\n",
      "{2012: [9.50952380952381, 5.395238095238096, 0.3047619047619048, 4.480952380952381], 2013: [4.666666666666667, 7.2, 0.7333333333333334, 3.5666666666666664], 2014: [4.35, 5.0, -2.4, 4.949999999999999], 2015: None}\n",
      "{2012: [0.0, 20.234745762711864, 8.933898305084746, 3.1203389830508472], 2013: [0.0, 18.87456647398844, 8.996531791907515, 2.66878612716763], 2014: [0.0, 19.203743315508024, 9.075401069518716, 3.071122994652406], 2015: [0.0, 21.40432098765432, 10.32283950617284, 3.0117283950617284]}\n"
     ]
    }
   ],
   "source": [
    "print(weather_0)\n",
    "print(weather_1)\n",
    "print(weather_2)\n",
    "print(weather_3)\n",
    "print(weather_4)"
   ]
  },
  {
   "cell_type": "markdown",
   "metadata": {},
   "source": [
    "### Function that gets rid of a key from an object (dictionary) where the value is set to None"
   ]
  },
  {
   "cell_type": "code",
   "execution_count": 18,
   "metadata": {},
   "outputs": [],
   "source": [
    "def get_val(dct, idx):\n",
    "    res = {k: None for k in range(start_y, end_y+1)}\n",
    "    for y in range(start_y, end_y+1):\n",
    "        if dct[y] is not None:\n",
    "            res[y] = dct[y][idx]\n",
    "        else:\n",
    "            del res[y]\n",
    "    return res"
   ]
  },
  {
   "cell_type": "markdown",
   "metadata": {},
   "source": [
    "### Function for data visualization"
   ]
  },
  {
   "cell_type": "code",
   "execution_count": 19,
   "metadata": {},
   "outputs": [],
   "source": [
    "def plot_data(ylab, idx, weather_0, weather_1, weather_2,\n",
    "              weather_3, weather_4):\n",
    "    w_0 = get_val(weather_0, idx)\n",
    "    w_1 = get_val(weather_1, idx)\n",
    "    w_2 = get_val(weather_2, idx)\n",
    "    w_3 = get_val(weather_3, idx)\n",
    "    w_4 = get_val(weather_4, idx)\n",
    "\n",
    "    figure, axes = plt.subplots(5, 1, figsize=(10, 7))\n",
    "    figure.tight_layout()\n",
    "    for ax in axes.flat:\n",
    "        ax.set_xlabel('Year')\n",
    "        ax.set_ylabel(ylab)\n",
    "\n",
    "    colors = ['deepskyblue', 'orange', 'purple', 'olive', 'green']\n",
    "    \n",
    "    for i in range(5):\n",
    "        var = locals()[f'w_{i}']\n",
    "        axes[i].plot([k for k in var.keys()], [k for k in var.values()], \n",
    "                     label=weather_unique_lbs[i], c=colors[i], marker='o')\n",
    "        axes[i].legend()\n",
    "        axes[i].grid(axis='y')\n",
    "    \n",
    "    plt.legend()\n",
    "    plt.show()"
   ]
  },
  {
   "cell_type": "markdown",
   "metadata": {},
   "source": [
    "### Visualization of averaged data"
   ]
  },
  {
   "cell_type": "code",
   "execution_count": 20,
   "metadata": {},
   "outputs": [
    {
     "data": {
      "image/png": "[encoded data removed]",
      "text/plain": [
       "<Figure size 1000x700 with 5 Axes>"
      ]
     },
     "metadata": {},
     "output_type": "display_data"
    }
   ],
   "source": [
    "plot_data('Precipitation', 0, weather_0, weather_1, weather_2, weather_3, weather_4)"
   ]
  },
  {
   "cell_type": "code",
   "execution_count": 21,
   "metadata": {},
   "outputs": [
    {
     "data": {
      "image/png": "[encoded data removed]",
      "text/plain": [
       "<Figure size 1000x700 with 5 Axes>"
      ]
     },
     "metadata": {},
     "output_type": "display_data"
    }
   ],
   "source": [
    "plot_data('Temp. Max', 1, weather_0, weather_1, weather_2, weather_3, weather_4)"
   ]
  },
  {
   "cell_type": "code",
   "execution_count": 22,
   "metadata": {},
   "outputs": [
    {
     "data": {
      "image/png": "[encoded data removed]",
      "text/plain": [
       "<Figure size 1000x700 with 5 Axes>"
      ]
     },
     "metadata": {},
     "output_type": "display_data"
    }
   ],
   "source": [
    "plot_data('Temp. Min', 2, weather_0, weather_1, weather_2, weather_3, weather_4)"
   ]
  },
  {
   "cell_type": "code",
   "execution_count": 23,
   "metadata": {},
   "outputs": [
    {
     "data": {
      "image/png": "[encoded data removed]",
      "text/plain": [
       "<Figure size 1000x700 with 5 Axes>"
      ]
     },
     "metadata": {},
     "output_type": "display_data"
    }
   ],
   "source": [
    "plot_data('Wind', 3, weather_0, weather_1, weather_2, weather_3, weather_4)"
   ]
  },
  {
   "cell_type": "markdown",
   "metadata": {},
   "source": [
    "## Adding missing values ​​- so that each class has the same number of records (this is to prevent the model from overfitting)"
   ]
  },
  {
   "cell_type": "markdown",
   "metadata": {},
   "source": [
    "### View into basic data"
   ]
  },
  {
   "cell_type": "code",
   "execution_count": 24,
   "metadata": {},
   "outputs": [
    {
     "data": {
      "text/plain": [
       "weather\n",
       "rain       641\n",
       "sun        640\n",
       "fog        101\n",
       "drizzle     53\n",
       "snow        26\n",
       "Name: count, dtype: int64"
      ]
     },
     "execution_count": 24,
     "metadata": {},
     "output_type": "execute_result"
    }
   ],
   "source": [
    "# Checking the number of occurrences of particular weather \n",
    "df['weather'].value_counts()"
   ]
  },
  {
   "cell_type": "code",
   "execution_count": 25,
   "metadata": {},
   "outputs": [
    {
     "data": {
      "text/plain": [
       "641"
      ]
     },
     "execution_count": 25,
     "metadata": {},
     "output_type": "execute_result"
    }
   ],
   "source": [
    "# Checking how many rows contain the most numerous weather types\n",
    "df['weather'].value_counts().max()"
   ]
  },
  {
   "cell_type": "code",
   "execution_count": 26,
   "metadata": {},
   "outputs": [
    {
     "data": {
      "text/plain": [
       "Index(['precipitation', 'temp_max', 'temp_min', 'wind', 'weather'], dtype='object')"
      ]
     },
     "execution_count": 26,
     "metadata": {},
     "output_type": "execute_result"
    }
   ],
   "source": [
    "# view of the columns that will be used to train the model\n",
    "df.columns.drop('date')"
   ]
  },
  {
   "cell_type": "code",
   "execution_count": 27,
   "metadata": {},
   "outputs": [
    {
     "data": {
      "text/plain": [
       "Index(['rain', 'sun', 'fog', 'drizzle', 'snow'], dtype='object', name='weather')"
      ]
     },
     "execution_count": 27,
     "metadata": {},
     "output_type": "execute_result"
    }
   ],
   "source": [
    "# view the types of weather that will be predicted\n",
    "df['weather'].value_counts().index"
   ]
  },
  {
   "cell_type": "code",
   "execution_count": 28,
   "metadata": {},
   "outputs": [
    {
     "data": {
      "text/plain": [
       "101"
      ]
     },
     "execution_count": 28,
     "metadata": {},
     "output_type": "execute_result"
    }
   ],
   "source": [
    "# operation checking how many rows contain the weather type 'fog'\n",
    "len(df[df['weather'] == 'fog'])"
   ]
  },
  {
   "cell_type": "code",
   "execution_count": 29,
   "metadata": {},
   "outputs": [
    {
     "data": {
      "text/plain": [
       "1460"
      ]
     },
     "execution_count": 29,
     "metadata": {},
     "output_type": "execute_result"
    }
   ],
   "source": [
    "# checking how many rows there are in total in our data frame\n",
    "df.index.max()"
   ]
  },
  {
   "cell_type": "code",
   "execution_count": 30,
   "metadata": {},
   "outputs": [
    {
     "data": {
      "text/plain": [
       "precipitation     0.000000\n",
       "temp_max         19.861875\n",
       "temp_min          9.343750\n",
       "wind              2.956406\n",
       "dtype: float64"
      ]
     },
     "execution_count": 30,
     "metadata": {},
     "output_type": "execute_result"
    }
   ],
   "source": [
    "# checking the average for the weather type 'sun'\n",
    "df[df['weather'] == 'sun'].mean(numeric_only=True)"
   ]
  },
  {
   "cell_type": "code",
   "execution_count": 31,
   "metadata": {},
   "outputs": [
    {
     "data": {
      "text/html": [
       "<div>\n",
       "<style scoped>\n",
       "    .dataframe tbody tr th:only-of-type {\n",
       "        vertical-align: middle;\n",
       "    }\n",
       "\n",
       "    .dataframe tbody tr th {\n",
       "        vertical-align: top;\n",
       "    }\n",
       "\n",
       "    .dataframe thead th {\n",
       "        text-align: right;\n",
       "    }\n",
       "</style>\n",
       "<table border=\"1\" class=\"dataframe\">\n",
       "  <thead>\n",
       "    <tr style=\"text-align: right;\">\n",
       "      <th></th>\n",
       "      <th>date</th>\n",
       "      <th>precipitation</th>\n",
       "      <th>temp_max</th>\n",
       "      <th>temp_min</th>\n",
       "      <th>wind</th>\n",
       "      <th>weather</th>\n",
       "    </tr>\n",
       "  </thead>\n",
       "  <tbody>\n",
       "    <tr>\n",
       "      <th>1456</th>\n",
       "      <td>2015-12-27</td>\n",
       "      <td>8.6</td>\n",
       "      <td>4.4</td>\n",
       "      <td>1.7</td>\n",
       "      <td>2.9</td>\n",
       "      <td>rain</td>\n",
       "    </tr>\n",
       "    <tr>\n",
       "      <th>1457</th>\n",
       "      <td>2015-12-28</td>\n",
       "      <td>1.5</td>\n",
       "      <td>5.0</td>\n",
       "      <td>1.7</td>\n",
       "      <td>1.3</td>\n",
       "      <td>rain</td>\n",
       "    </tr>\n",
       "    <tr>\n",
       "      <th>1458</th>\n",
       "      <td>2015-12-29</td>\n",
       "      <td>0.0</td>\n",
       "      <td>7.2</td>\n",
       "      <td>0.6</td>\n",
       "      <td>2.6</td>\n",
       "      <td>fog</td>\n",
       "    </tr>\n",
       "    <tr>\n",
       "      <th>1459</th>\n",
       "      <td>2015-12-30</td>\n",
       "      <td>0.0</td>\n",
       "      <td>5.6</td>\n",
       "      <td>-1.0</td>\n",
       "      <td>3.4</td>\n",
       "      <td>sun</td>\n",
       "    </tr>\n",
       "    <tr>\n",
       "      <th>1460</th>\n",
       "      <td>2015-12-31</td>\n",
       "      <td>0.0</td>\n",
       "      <td>5.6</td>\n",
       "      <td>-2.1</td>\n",
       "      <td>3.5</td>\n",
       "      <td>sun</td>\n",
       "    </tr>\n",
       "  </tbody>\n",
       "</table>\n",
       "</div>"
      ],
      "text/plain": [
       "            date  precipitation  temp_max  temp_min  wind weather\n",
       "1456  2015-12-27            8.6       4.4       1.7   2.9    rain\n",
       "1457  2015-12-28            1.5       5.0       1.7   1.3    rain\n",
       "1458  2015-12-29            0.0       7.2       0.6   2.6     fog\n",
       "1459  2015-12-30            0.0       5.6      -1.0   3.4     sun\n",
       "1460  2015-12-31            0.0       5.6      -2.1   3.5     sun"
      ]
     },
     "execution_count": 31,
     "metadata": {},
     "output_type": "execute_result"
    }
   ],
   "source": [
    "# check the last 5 rows in the data frame\n",
    "df.tail()"
   ]
  },
  {
   "cell_type": "code",
   "execution_count": 32,
   "metadata": {},
   "outputs": [
    {
     "data": {
      "text/plain": [
       "precipitation    0.000000\n",
       "temp_max         7.698258\n",
       "temp_min         5.508277\n",
       "wind             1.164077\n",
       "dtype: float64"
      ]
     },
     "execution_count": 32,
     "metadata": {},
     "output_type": "execute_result"
    }
   ],
   "source": [
    "# check standard deviation for weather type 'sun'\n",
    "df[df['weather'] == 'sun'].std(numeric_only=True)"
   ]
  },
  {
   "cell_type": "markdown",
   "metadata": {},
   "source": [
    "### Function filling missing data - for each class with missing data it creates a new record based on the mean and standard deviation"
   ]
  },
  {
   "cell_type": "code",
   "execution_count": 33,
   "metadata": {},
   "outputs": [],
   "source": [
    "def append_missing_values():\n",
    "    max_len = df['weather'].value_counts().max() # 641\n",
    "    weather = df['weather'].value_counts().index # Index(['rain', 'sun', 'fog', 'drizzle', 'snow'], dtype='object')\n",
    "\n",
    "    for w in weather:\n",
    "        # for each type of weather - creation of averages and standard deviation\n",
    "        mean_percipation, mean_temp_max, mean_temp_min, mean_wind = df[df['weather'] == w].mean(numeric_only=True)\n",
    "        std_percipation, std_temp_max, std_temp_min, std_wind = df[df['weather'] == w].std(numeric_only=True)\n",
    "        last_idx = df.index.max() # 1460\n",
    "        len_idx = len(df[df['weather'] == w])\n",
    "        # rng - a variable that determines how many additional records should be added to equalize the amount of data\n",
    "        rng = max_len - len_idx\n",
    "        \n",
    "        for i in range(rng):\n",
    "            # adding a new record - based on the mean and from -2 to 2 * standard deviation\n",
    "            df.loc[last_idx+i+1] = {'precipitation': mean_percipation + np.random.randint(-2, 3)*std_percipation, \n",
    "                                'temp_max': mean_temp_max + np.random.randint(-2, 3)*std_temp_max, \n",
    "                                'temp_min': mean_temp_min + np.random.randint(-2, 3)*std_temp_min,\n",
    "                                'wind': mean_wind + np.random.randint(-2, 3)*std_wind,\n",
    "                                'weather': w}"
   ]
  },
  {
   "cell_type": "code",
   "execution_count": 34,
   "metadata": {},
   "outputs": [],
   "source": [
    "# call above function to fill in missing records\n",
    "append_missing_values()"
   ]
  },
  {
   "cell_type": "code",
   "execution_count": 35,
   "metadata": {},
   "outputs": [
    {
     "data": {
      "text/plain": [
       "weather\n",
       "drizzle    641\n",
       "rain       641\n",
       "sun        641\n",
       "snow       641\n",
       "fog        641\n",
       "Name: count, dtype: int64"
      ]
     },
     "execution_count": 35,
     "metadata": {},
     "output_type": "execute_result"
    }
   ],
   "source": [
    "# displaying number of occurrences of each weather type\n",
    "df['weather'].value_counts()"
   ]
  },
  {
   "cell_type": "code",
   "execution_count": 36,
   "metadata": {},
   "outputs": [
    {
     "data": {
      "text/html": [
       "<div>\n",
       "<style scoped>\n",
       "    .dataframe tbody tr th:only-of-type {\n",
       "        vertical-align: middle;\n",
       "    }\n",
       "\n",
       "    .dataframe tbody tr th {\n",
       "        vertical-align: top;\n",
       "    }\n",
       "\n",
       "    .dataframe thead th {\n",
       "        text-align: right;\n",
       "    }\n",
       "</style>\n",
       "<table border=\"1\" class=\"dataframe\">\n",
       "  <thead>\n",
       "    <tr style=\"text-align: right;\">\n",
       "      <th></th>\n",
       "      <th>date</th>\n",
       "      <th>precipitation</th>\n",
       "      <th>temp_max</th>\n",
       "      <th>temp_min</th>\n",
       "      <th>wind</th>\n",
       "      <th>weather</th>\n",
       "    </tr>\n",
       "  </thead>\n",
       "  <tbody>\n",
       "    <tr>\n",
       "      <th>3200</th>\n",
       "      <td>NaN</td>\n",
       "      <td>22.596892</td>\n",
       "      <td>11.791387</td>\n",
       "      <td>-4.328211</td>\n",
       "      <td>7.292276</td>\n",
       "      <td>snow</td>\n",
       "    </tr>\n",
       "    <tr>\n",
       "      <th>3201</th>\n",
       "      <td>NaN</td>\n",
       "      <td>-5.489200</td>\n",
       "      <td>2.463922</td>\n",
       "      <td>0.146154</td>\n",
       "      <td>7.292276</td>\n",
       "      <td>snow</td>\n",
       "    </tr>\n",
       "    <tr>\n",
       "      <th>3202</th>\n",
       "      <td>NaN</td>\n",
       "      <td>22.596892</td>\n",
       "      <td>8.682232</td>\n",
       "      <td>0.146154</td>\n",
       "      <td>2.971170</td>\n",
       "      <td>snow</td>\n",
       "    </tr>\n",
       "    <tr>\n",
       "      <th>3203</th>\n",
       "      <td>NaN</td>\n",
       "      <td>8.553846</td>\n",
       "      <td>-0.645234</td>\n",
       "      <td>-4.328211</td>\n",
       "      <td>4.411538</td>\n",
       "      <td>snow</td>\n",
       "    </tr>\n",
       "    <tr>\n",
       "      <th>3204</th>\n",
       "      <td>NaN</td>\n",
       "      <td>15.575369</td>\n",
       "      <td>5.573077</td>\n",
       "      <td>4.620518</td>\n",
       "      <td>1.530801</td>\n",
       "      <td>snow</td>\n",
       "    </tr>\n",
       "  </tbody>\n",
       "</table>\n",
       "</div>"
      ],
      "text/plain": [
       "     date  precipitation   temp_max  temp_min      wind weather\n",
       "3200  NaN      22.596892  11.791387 -4.328211  7.292276    snow\n",
       "3201  NaN      -5.489200   2.463922  0.146154  7.292276    snow\n",
       "3202  NaN      22.596892   8.682232  0.146154  2.971170    snow\n",
       "3203  NaN       8.553846  -0.645234 -4.328211  4.411538    snow\n",
       "3204  NaN      15.575369   5.573077  4.620518  1.530801    snow"
      ]
     },
     "execution_count": 36,
     "metadata": {},
     "output_type": "execute_result"
    }
   ],
   "source": [
    "df.tail()"
   ]
  },
  {
   "cell_type": "code",
   "execution_count": 37,
   "metadata": {},
   "outputs": [
    {
     "data": {
      "image/png": "[encoded data removed]",
      "text/plain": [
       "<Figure size 640x480 with 1 Axes>"
      ]
     },
     "metadata": {},
     "output_type": "display_data"
    }
   ],
   "source": [
    "plt.hist(df['weather'], color='dodgerblue')\n",
    "plt.show()"
   ]
  },
  {
   "cell_type": "markdown",
   "metadata": {},
   "source": [
    "## Recoding class names to numbers (since machine learning models only work on numbers (not text values))"
   ]
  },
  {
   "cell_type": "code",
   "execution_count": 38,
   "metadata": {},
   "outputs": [],
   "source": [
    "from sklearn.preprocessing import LabelEncoder\n",
    "le = LabelEncoder()"
   ]
  },
  {
   "cell_type": "code",
   "execution_count": 39,
   "metadata": {},
   "outputs": [],
   "source": [
    "df['weather'] = le.fit_transform(df['weather'])"
   ]
  },
  {
   "cell_type": "code",
   "execution_count": 40,
   "metadata": {},
   "outputs": [
    {
     "data": {
      "text/html": [
       "<div>\n",
       "<style scoped>\n",
       "    .dataframe tbody tr th:only-of-type {\n",
       "        vertical-align: middle;\n",
       "    }\n",
       "\n",
       "    .dataframe tbody tr th {\n",
       "        vertical-align: top;\n",
       "    }\n",
       "\n",
       "    .dataframe thead th {\n",
       "        text-align: right;\n",
       "    }\n",
       "</style>\n",
       "<table border=\"1\" class=\"dataframe\">\n",
       "  <thead>\n",
       "    <tr style=\"text-align: right;\">\n",
       "      <th></th>\n",
       "      <th>date</th>\n",
       "      <th>precipitation</th>\n",
       "      <th>temp_max</th>\n",
       "      <th>temp_min</th>\n",
       "      <th>wind</th>\n",
       "      <th>weather</th>\n",
       "    </tr>\n",
       "  </thead>\n",
       "  <tbody>\n",
       "    <tr>\n",
       "      <th>0</th>\n",
       "      <td>2012-01-01</td>\n",
       "      <td>0.000000</td>\n",
       "      <td>12.800000</td>\n",
       "      <td>5.000000</td>\n",
       "      <td>4.700000</td>\n",
       "      <td>0</td>\n",
       "    </tr>\n",
       "    <tr>\n",
       "      <th>1</th>\n",
       "      <td>2012-01-02</td>\n",
       "      <td>10.900000</td>\n",
       "      <td>10.600000</td>\n",
       "      <td>2.800000</td>\n",
       "      <td>4.500000</td>\n",
       "      <td>2</td>\n",
       "    </tr>\n",
       "    <tr>\n",
       "      <th>2</th>\n",
       "      <td>2012-01-03</td>\n",
       "      <td>0.800000</td>\n",
       "      <td>11.700000</td>\n",
       "      <td>7.200000</td>\n",
       "      <td>2.300000</td>\n",
       "      <td>2</td>\n",
       "    </tr>\n",
       "    <tr>\n",
       "      <th>3</th>\n",
       "      <td>2012-01-04</td>\n",
       "      <td>20.300000</td>\n",
       "      <td>12.200000</td>\n",
       "      <td>5.600000</td>\n",
       "      <td>4.700000</td>\n",
       "      <td>2</td>\n",
       "    </tr>\n",
       "    <tr>\n",
       "      <th>4</th>\n",
       "      <td>2012-01-05</td>\n",
       "      <td>1.300000</td>\n",
       "      <td>8.900000</td>\n",
       "      <td>2.800000</td>\n",
       "      <td>6.100000</td>\n",
       "      <td>2</td>\n",
       "    </tr>\n",
       "    <tr>\n",
       "      <th>...</th>\n",
       "      <td>...</td>\n",
       "      <td>...</td>\n",
       "      <td>...</td>\n",
       "      <td>...</td>\n",
       "      <td>...</td>\n",
       "      <td>...</td>\n",
       "    </tr>\n",
       "    <tr>\n",
       "      <th>3200</th>\n",
       "      <td>NaN</td>\n",
       "      <td>22.596892</td>\n",
       "      <td>11.791387</td>\n",
       "      <td>-4.328211</td>\n",
       "      <td>7.292276</td>\n",
       "      <td>3</td>\n",
       "    </tr>\n",
       "    <tr>\n",
       "      <th>3201</th>\n",
       "      <td>NaN</td>\n",
       "      <td>-5.489200</td>\n",
       "      <td>2.463922</td>\n",
       "      <td>0.146154</td>\n",
       "      <td>7.292276</td>\n",
       "      <td>3</td>\n",
       "    </tr>\n",
       "    <tr>\n",
       "      <th>3202</th>\n",
       "      <td>NaN</td>\n",
       "      <td>22.596892</td>\n",
       "      <td>8.682232</td>\n",
       "      <td>0.146154</td>\n",
       "      <td>2.971170</td>\n",
       "      <td>3</td>\n",
       "    </tr>\n",
       "    <tr>\n",
       "      <th>3203</th>\n",
       "      <td>NaN</td>\n",
       "      <td>8.553846</td>\n",
       "      <td>-0.645234</td>\n",
       "      <td>-4.328211</td>\n",
       "      <td>4.411538</td>\n",
       "      <td>3</td>\n",
       "    </tr>\n",
       "    <tr>\n",
       "      <th>3204</th>\n",
       "      <td>NaN</td>\n",
       "      <td>15.575369</td>\n",
       "      <td>5.573077</td>\n",
       "      <td>4.620518</td>\n",
       "      <td>1.530801</td>\n",
       "      <td>3</td>\n",
       "    </tr>\n",
       "  </tbody>\n",
       "</table>\n",
       "<p>3205 rows × 6 columns</p>\n",
       "</div>"
      ],
      "text/plain": [
       "            date  precipitation   temp_max  temp_min      wind  weather\n",
       "0     2012-01-01       0.000000  12.800000  5.000000  4.700000        0\n",
       "1     2012-01-02      10.900000  10.600000  2.800000  4.500000        2\n",
       "2     2012-01-03       0.800000  11.700000  7.200000  2.300000        2\n",
       "3     2012-01-04      20.300000  12.200000  5.600000  4.700000        2\n",
       "4     2012-01-05       1.300000   8.900000  2.800000  6.100000        2\n",
       "...          ...            ...        ...       ...       ...      ...\n",
       "3200         NaN      22.596892  11.791387 -4.328211  7.292276        3\n",
       "3201         NaN      -5.489200   2.463922  0.146154  7.292276        3\n",
       "3202         NaN      22.596892   8.682232  0.146154  2.971170        3\n",
       "3203         NaN       8.553846  -0.645234 -4.328211  4.411538        3\n",
       "3204         NaN      15.575369   5.573077  4.620518  1.530801        3\n",
       "\n",
       "[3205 rows x 6 columns]"
      ]
     },
     "execution_count": 40,
     "metadata": {},
     "output_type": "execute_result"
    }
   ],
   "source": [
    "df"
   ]
  },
  {
   "cell_type": "code",
   "execution_count": 41,
   "metadata": {},
   "outputs": [
    {
     "data": {
      "text/plain": [
       "[0, 1, 2, 3, 4]"
      ]
     },
     "execution_count": 41,
     "metadata": {},
     "output_type": "execute_result"
    }
   ],
   "source": [
    "weather_unique_num = []\n",
    "for i in idx_lst:\n",
    "    num = df.loc[i]['weather']\n",
    "    weather_unique_num.append(num)\n",
    "weather_unique_num"
   ]
  },
  {
   "cell_type": "code",
   "execution_count": 42,
   "metadata": {},
   "outputs": [
    {
     "data": {
      "text/plain": [
       "{0: 'drizzle', 1: 'fog', 2: 'rain', 3: 'snow', 4: 'sun'}"
      ]
     },
     "execution_count": 42,
     "metadata": {},
     "output_type": "execute_result"
    }
   ],
   "source": [
    "# creating a dictionary containing assignments for each type of weather\n",
    "# (key - weather type in numerical form, value - weather type in text form)\n",
    "weather_map = {}\n",
    "for n, l in zip(weather_unique_num, weather_unique_lbs):\n",
    "    weather_map[n] = l\n",
    "weather_map"
   ]
  },
  {
   "cell_type": "code",
   "execution_count": 43,
   "metadata": {},
   "outputs": [
    {
     "data": {
      "text/html": [
       "<div>\n",
       "<style scoped>\n",
       "    .dataframe tbody tr th:only-of-type {\n",
       "        vertical-align: middle;\n",
       "    }\n",
       "\n",
       "    .dataframe tbody tr th {\n",
       "        vertical-align: top;\n",
       "    }\n",
       "\n",
       "    .dataframe thead th {\n",
       "        text-align: right;\n",
       "    }\n",
       "</style>\n",
       "<table border=\"1\" class=\"dataframe\">\n",
       "  <thead>\n",
       "    <tr style=\"text-align: right;\">\n",
       "      <th></th>\n",
       "      <th>date</th>\n",
       "      <th>precipitation</th>\n",
       "      <th>temp_max</th>\n",
       "      <th>temp_min</th>\n",
       "      <th>wind</th>\n",
       "      <th>weather</th>\n",
       "    </tr>\n",
       "  </thead>\n",
       "  <tbody>\n",
       "    <tr>\n",
       "      <th>0</th>\n",
       "      <td>2012-01-01</td>\n",
       "      <td>0.0</td>\n",
       "      <td>12.8</td>\n",
       "      <td>5.0</td>\n",
       "      <td>4.7</td>\n",
       "      <td>0</td>\n",
       "    </tr>\n",
       "    <tr>\n",
       "      <th>1</th>\n",
       "      <td>2012-01-02</td>\n",
       "      <td>10.9</td>\n",
       "      <td>10.6</td>\n",
       "      <td>2.8</td>\n",
       "      <td>4.5</td>\n",
       "      <td>2</td>\n",
       "    </tr>\n",
       "    <tr>\n",
       "      <th>2</th>\n",
       "      <td>2012-01-03</td>\n",
       "      <td>0.8</td>\n",
       "      <td>11.7</td>\n",
       "      <td>7.2</td>\n",
       "      <td>2.3</td>\n",
       "      <td>2</td>\n",
       "    </tr>\n",
       "    <tr>\n",
       "      <th>3</th>\n",
       "      <td>2012-01-04</td>\n",
       "      <td>20.3</td>\n",
       "      <td>12.2</td>\n",
       "      <td>5.6</td>\n",
       "      <td>4.7</td>\n",
       "      <td>2</td>\n",
       "    </tr>\n",
       "    <tr>\n",
       "      <th>4</th>\n",
       "      <td>2012-01-05</td>\n",
       "      <td>1.3</td>\n",
       "      <td>8.9</td>\n",
       "      <td>2.8</td>\n",
       "      <td>6.1</td>\n",
       "      <td>2</td>\n",
       "    </tr>\n",
       "  </tbody>\n",
       "</table>\n",
       "</div>"
      ],
      "text/plain": [
       "         date  precipitation  temp_max  temp_min  wind  weather\n",
       "0  2012-01-01            0.0      12.8       5.0   4.7        0\n",
       "1  2012-01-02           10.9      10.6       2.8   4.5        2\n",
       "2  2012-01-03            0.8      11.7       7.2   2.3        2\n",
       "3  2012-01-04           20.3      12.2       5.6   4.7        2\n",
       "4  2012-01-05            1.3       8.9       2.8   6.1        2"
      ]
     },
     "execution_count": 43,
     "metadata": {},
     "output_type": "execute_result"
    }
   ],
   "source": [
    "# view the first 5 rows in the data frame\n",
    "df.head()"
   ]
  },
  {
   "cell_type": "markdown",
   "metadata": {},
   "source": [
    "## Model training"
   ]
  },
  {
   "cell_type": "code",
   "execution_count": 44,
   "metadata": {},
   "outputs": [
    {
     "data": {
      "text/html": [
       "<div>\n",
       "<style scoped>\n",
       "    .dataframe tbody tr th:only-of-type {\n",
       "        vertical-align: middle;\n",
       "    }\n",
       "\n",
       "    .dataframe tbody tr th {\n",
       "        vertical-align: top;\n",
       "    }\n",
       "\n",
       "    .dataframe thead th {\n",
       "        text-align: right;\n",
       "    }\n",
       "</style>\n",
       "<table border=\"1\" class=\"dataframe\">\n",
       "  <thead>\n",
       "    <tr style=\"text-align: right;\">\n",
       "      <th></th>\n",
       "      <th>precipitation</th>\n",
       "      <th>temp_max</th>\n",
       "      <th>temp_min</th>\n",
       "      <th>wind</th>\n",
       "      <th>weather</th>\n",
       "    </tr>\n",
       "  </thead>\n",
       "  <tbody>\n",
       "    <tr>\n",
       "      <th>0</th>\n",
       "      <td>0.0</td>\n",
       "      <td>12.8</td>\n",
       "      <td>5.0</td>\n",
       "      <td>4.7</td>\n",
       "      <td>0</td>\n",
       "    </tr>\n",
       "    <tr>\n",
       "      <th>1</th>\n",
       "      <td>10.9</td>\n",
       "      <td>10.6</td>\n",
       "      <td>2.8</td>\n",
       "      <td>4.5</td>\n",
       "      <td>2</td>\n",
       "    </tr>\n",
       "    <tr>\n",
       "      <th>2</th>\n",
       "      <td>0.8</td>\n",
       "      <td>11.7</td>\n",
       "      <td>7.2</td>\n",
       "      <td>2.3</td>\n",
       "      <td>2</td>\n",
       "    </tr>\n",
       "    <tr>\n",
       "      <th>3</th>\n",
       "      <td>20.3</td>\n",
       "      <td>12.2</td>\n",
       "      <td>5.6</td>\n",
       "      <td>4.7</td>\n",
       "      <td>2</td>\n",
       "    </tr>\n",
       "    <tr>\n",
       "      <th>4</th>\n",
       "      <td>1.3</td>\n",
       "      <td>8.9</td>\n",
       "      <td>2.8</td>\n",
       "      <td>6.1</td>\n",
       "      <td>2</td>\n",
       "    </tr>\n",
       "  </tbody>\n",
       "</table>\n",
       "</div>"
      ],
      "text/plain": [
       "   precipitation  temp_max  temp_min  wind  weather\n",
       "0            0.0      12.8       5.0   4.7        0\n",
       "1           10.9      10.6       2.8   4.5        2\n",
       "2            0.8      11.7       7.2   2.3        2\n",
       "3           20.3      12.2       5.6   4.7        2\n",
       "4            1.3       8.9       2.8   6.1        2"
      ]
     },
     "execution_count": 44,
     "metadata": {},
     "output_type": "execute_result"
    }
   ],
   "source": [
    "# remove unnecessary column - date\n",
    "df.drop(columns='date', inplace=True)\n",
    "\n",
    "df.head()"
   ]
  },
  {
   "cell_type": "code",
   "execution_count": 45,
   "metadata": {},
   "outputs": [
    {
     "data": {
      "text/plain": [
       "(3205, 5)"
      ]
     },
     "execution_count": 45,
     "metadata": {},
     "output_type": "execute_result"
    }
   ],
   "source": [
    "# display the shape of the data frame (number_of_rows, number_of_columns)\n",
    "df.shape"
   ]
  },
  {
   "cell_type": "code",
   "execution_count": 46,
   "metadata": {},
   "outputs": [
    {
     "data": {
      "text/plain": [
       "(55.9, 35.6, 19.475702625319734, 9.5)"
      ]
     },
     "execution_count": 46,
     "metadata": {},
     "output_type": "execute_result"
    }
   ],
   "source": [
    "# display the maximum values ​​for each column\n",
    "df['precipitation'].max(), df['temp_max'].max(), df['temp_min'].max(), df['wind'].max()"
   ]
  },
  {
   "cell_type": "code",
   "execution_count": 47,
   "metadata": {},
   "outputs": [
    {
     "data": {
      "text/plain": [
       "(-5.489199757263673, -1.6976572082895824, -7.1, 0.08807920005584124)"
      ]
     },
     "execution_count": 47,
     "metadata": {},
     "output_type": "execute_result"
    }
   ],
   "source": [
    "# display the minimum values ​​for each column\n",
    "df['precipitation'].min(), df['temp_max'].min(), df['temp_min'].min(), df['wind'].min()"
   ]
  },
  {
   "cell_type": "code",
   "execution_count": 48,
   "metadata": {},
   "outputs": [],
   "source": [
    "# assignments to variables X and y\n",
    "# X - independent variables used in the learning process\n",
    "# y - dependent variables (predicted)\n",
    "X = df[['precipitation', 'temp_max', 'temp_min', 'wind']]\n",
    "y = df['weather']"
   ]
  },
  {
   "cell_type": "markdown",
   "metadata": {},
   "source": [
    "### Scaling of features - due to the potential impact of some features on the model (so that it is not overfitted too quickly and that a given feature does not clearly define the assignment to a specific class)"
   ]
  },
  {
   "cell_type": "code",
   "execution_count": 49,
   "metadata": {},
   "outputs": [],
   "source": [
    "# import an object for scaling features - which scales features so that they are in the range from -1 to 1\n",
    "from sklearn.preprocessing import StandardScaler"
   ]
  },
  {
   "cell_type": "code",
   "execution_count": 50,
   "metadata": {},
   "outputs": [],
   "source": [
    "sc = StandardScaler()\n",
    "X = sc.fit_transform(X)"
   ]
  },
  {
   "cell_type": "markdown",
   "metadata": {},
   "source": [
    "### Split into training and test set"
   ]
  },
  {
   "cell_type": "code",
   "execution_count": 51,
   "metadata": {},
   "outputs": [],
   "source": [
    "from sklearn.model_selection import train_test_split"
   ]
  },
  {
   "cell_type": "code",
   "execution_count": 52,
   "metadata": {},
   "outputs": [],
   "source": [
    "X_train, X_test, y_train, y_test = train_test_split(X, y, test_size=0.2, random_state=31)"
   ]
  },
  {
   "cell_type": "code",
   "execution_count": 53,
   "metadata": {},
   "outputs": [
    {
     "data": {
      "text/plain": [
       "((2564, 4), (641, 4), (2564,), (641,))"
      ]
     },
     "execution_count": 53,
     "metadata": {},
     "output_type": "execute_result"
    }
   ],
   "source": [
    "# displaying the shapes of training and test variables (number_of_rows, number_of_columns)\n",
    "X_train.shape, X_test.shape, y_train.shape, y_test.shape"
   ]
  },
  {
   "cell_type": "code",
   "execution_count": 54,
   "metadata": {},
   "outputs": [
    {
     "data": {
      "text/html": [
       "<div>\n",
       "<style scoped>\n",
       "    .dataframe tbody tr th:only-of-type {\n",
       "        vertical-align: middle;\n",
       "    }\n",
       "\n",
       "    .dataframe tbody tr th {\n",
       "        vertical-align: top;\n",
       "    }\n",
       "\n",
       "    .dataframe thead th {\n",
       "        text-align: right;\n",
       "    }\n",
       "</style>\n",
       "<table border=\"1\" class=\"dataframe\">\n",
       "  <thead>\n",
       "    <tr style=\"text-align: right;\">\n",
       "      <th></th>\n",
       "      <th>precipitation</th>\n",
       "      <th>temp_max</th>\n",
       "      <th>temp_min</th>\n",
       "      <th>wind</th>\n",
       "      <th>weather</th>\n",
       "    </tr>\n",
       "  </thead>\n",
       "  <tbody>\n",
       "    <tr>\n",
       "      <th>0</th>\n",
       "      <td>0.0</td>\n",
       "      <td>12.8</td>\n",
       "      <td>5.0</td>\n",
       "      <td>4.7</td>\n",
       "      <td>0</td>\n",
       "    </tr>\n",
       "    <tr>\n",
       "      <th>1</th>\n",
       "      <td>10.9</td>\n",
       "      <td>10.6</td>\n",
       "      <td>2.8</td>\n",
       "      <td>4.5</td>\n",
       "      <td>2</td>\n",
       "    </tr>\n",
       "    <tr>\n",
       "      <th>2</th>\n",
       "      <td>0.8</td>\n",
       "      <td>11.7</td>\n",
       "      <td>7.2</td>\n",
       "      <td>2.3</td>\n",
       "      <td>2</td>\n",
       "    </tr>\n",
       "    <tr>\n",
       "      <th>3</th>\n",
       "      <td>20.3</td>\n",
       "      <td>12.2</td>\n",
       "      <td>5.6</td>\n",
       "      <td>4.7</td>\n",
       "      <td>2</td>\n",
       "    </tr>\n",
       "    <tr>\n",
       "      <th>4</th>\n",
       "      <td>1.3</td>\n",
       "      <td>8.9</td>\n",
       "      <td>2.8</td>\n",
       "      <td>6.1</td>\n",
       "      <td>2</td>\n",
       "    </tr>\n",
       "  </tbody>\n",
       "</table>\n",
       "</div>"
      ],
      "text/plain": [
       "   precipitation  temp_max  temp_min  wind  weather\n",
       "0            0.0      12.8       5.0   4.7        0\n",
       "1           10.9      10.6       2.8   4.5        2\n",
       "2            0.8      11.7       7.2   2.3        2\n",
       "3           20.3      12.2       5.6   4.7        2\n",
       "4            1.3       8.9       2.8   6.1        2"
      ]
     },
     "execution_count": 54,
     "metadata": {},
     "output_type": "execute_result"
    }
   ],
   "source": [
    "# view the first 5 rows in the data frame\n",
    "df.head()"
   ]
  },
  {
   "cell_type": "markdown",
   "metadata": {},
   "source": [
    "### Creating a neural network model and training it"
   ]
  },
  {
   "cell_type": "code",
   "execution_count": 55,
   "metadata": {},
   "outputs": [],
   "source": [
    "from keras.models import Sequential\n",
    "from keras.layers import Dense \n",
    "from keras.callbacks import EarlyStopping \n",
    "from keras.optimizers import Adam \n",
    "from sklearn.model_selection import KFold "
   ]
  },
  {
   "cell_type": "markdown",
   "metadata": {},
   "source": [
    "#### One-way network model with BP algorithm consisting of 4 layers:\n",
    "1. Input layer consisting of 64 neurons, f. activation: RELU\n",
    "2. Hidden layer consisting of 32 neurons and f. activation: RELU\n",
    "3. Hidden layer consisting of 16 neurons and f. activation: RELU\n",
    "4. An output layer consisting of 5 neurons (because we have 5 types of weather that we try to predict)"
   ]
  },
  {
   "cell_type": "code",
   "execution_count": 56,
   "metadata": {},
   "outputs": [
    {
     "name": "stdout",
     "output_type": "stream",
     "text": [
      "Epoch 1/100\n",
      " 1/81 [..............................] - ETA: 12s - loss: 1.6179 - accuracy: 0.2188"
     ]
    },
    {
     "name": "stderr",
     "output_type": "stream",
     "text": [
      "2024-06-17 17:07:33.427069: W tensorflow/tsl/platform/profile_utils/cpu_utils.cc:128] Failed to get CPU frequency: 0 Hz\n"
     ]
    },
    {
     "name": "stdout",
     "output_type": "stream",
     "text": [
      "81/81 [==============================] - 0s 525us/step - loss: 1.4547 - accuracy: 0.3935\n",
      "Epoch 2/100\n",
      "81/81 [==============================] - 0s 450us/step - loss: 1.2064 - accuracy: 0.4852\n",
      "Epoch 3/100\n",
      "81/81 [==============================] - 0s 442us/step - loss: 1.0382 - accuracy: 0.5624\n",
      "Epoch 4/100\n",
      "81/81 [==============================] - 0s 443us/step - loss: 0.9155 - accuracy: 0.6115\n",
      "Epoch 5/100\n",
      "81/81 [==============================] - 0s 451us/step - loss: 0.8296 - accuracy: 0.6416\n",
      "Epoch 6/100\n",
      "81/81 [==============================] - 0s 435us/step - loss: 0.7760 - accuracy: 0.6716\n",
      "Epoch 7/100\n",
      "81/81 [==============================] - 0s 443us/step - loss: 0.7361 - accuracy: 0.6693\n",
      "Epoch 8/100\n",
      "81/81 [==============================] - 0s 443us/step - loss: 0.7082 - accuracy: 0.6946\n",
      "Epoch 9/100\n",
      "81/81 [==============================] - 0s 451us/step - loss: 0.6911 - accuracy: 0.7005\n",
      "Epoch 10/100\n",
      "81/81 [==============================] - 0s 452us/step - loss: 0.6695 - accuracy: 0.7048\n",
      "Epoch 11/100\n",
      "81/81 [==============================] - 0s 444us/step - loss: 0.6612 - accuracy: 0.7126\n",
      "Epoch 12/100\n",
      "81/81 [==============================] - 0s 449us/step - loss: 0.6511 - accuracy: 0.7172\n",
      "Epoch 13/100\n",
      "81/81 [==============================] - 0s 471us/step - loss: 0.6491 - accuracy: 0.7180\n",
      "Epoch 14/100\n",
      "81/81 [==============================] - 0s 445us/step - loss: 0.6363 - accuracy: 0.7231\n",
      "Epoch 15/100\n",
      "81/81 [==============================] - 0s 443us/step - loss: 0.6291 - accuracy: 0.7235\n",
      "Epoch 16/100\n",
      "81/81 [==============================] - 0s 443us/step - loss: 0.6296 - accuracy: 0.7176\n",
      "Epoch 17/100\n",
      "81/81 [==============================] - 0s 452us/step - loss: 0.6172 - accuracy: 0.7289\n",
      "Epoch 18/100\n",
      "81/81 [==============================] - 0s 437us/step - loss: 0.6169 - accuracy: 0.7258\n",
      "Epoch 19/100\n",
      "81/81 [==============================] - 0s 448us/step - loss: 0.6112 - accuracy: 0.7344\n",
      "Epoch 20/100\n",
      "81/81 [==============================] - 0s 444us/step - loss: 0.6053 - accuracy: 0.7293\n",
      "Epoch 21/100\n",
      "81/81 [==============================] - 0s 438us/step - loss: 0.6061 - accuracy: 0.7254\n",
      "Epoch 22/100\n",
      "81/81 [==============================] - 0s 441us/step - loss: 0.6028 - accuracy: 0.7321\n",
      "Epoch 23/100\n",
      "81/81 [==============================] - 0s 436us/step - loss: 0.5966 - accuracy: 0.7336\n",
      "Epoch 24/100\n",
      "81/81 [==============================] - 0s 445us/step - loss: 0.5968 - accuracy: 0.7379\n",
      "Epoch 25/100\n",
      "81/81 [==============================] - 0s 447us/step - loss: 0.5919 - accuracy: 0.7336\n",
      "Epoch 26/100\n",
      "81/81 [==============================] - 0s 446us/step - loss: 0.5937 - accuracy: 0.7321\n",
      "Epoch 27/100\n",
      "81/81 [==============================] - 0s 679us/step - loss: 0.5864 - accuracy: 0.7336\n",
      "Epoch 28/100\n",
      "81/81 [==============================] - 0s 448us/step - loss: 0.5877 - accuracy: 0.7399\n",
      "Epoch 29/100\n",
      "81/81 [==============================] - 0s 448us/step - loss: 0.5834 - accuracy: 0.7395\n",
      "Epoch 30/100\n",
      "81/81 [==============================] - 0s 444us/step - loss: 0.5831 - accuracy: 0.7387\n",
      "Epoch 31/100\n",
      "81/81 [==============================] - 0s 450us/step - loss: 0.5799 - accuracy: 0.7473\n",
      "Epoch 32/100\n",
      "81/81 [==============================] - 0s 442us/step - loss: 0.5778 - accuracy: 0.7379\n",
      "Epoch 33/100\n",
      "81/81 [==============================] - 0s 442us/step - loss: 0.5848 - accuracy: 0.7402\n",
      "Epoch 34/100\n",
      "81/81 [==============================] - 0s 437us/step - loss: 0.5666 - accuracy: 0.7469\n",
      "Epoch 35/100\n",
      "81/81 [==============================] - 0s 444us/step - loss: 0.5678 - accuracy: 0.7508\n",
      "Epoch 36/100\n",
      "81/81 [==============================] - 0s 452us/step - loss: 0.5647 - accuracy: 0.7527\n",
      "Epoch 37/100\n",
      "81/81 [==============================] - 0s 450us/step - loss: 0.5632 - accuracy: 0.7531\n",
      "Epoch 38/100\n",
      "81/81 [==============================] - 0s 452us/step - loss: 0.5632 - accuracy: 0.7516\n",
      "Epoch 39/100\n",
      "81/81 [==============================] - 0s 444us/step - loss: 0.5590 - accuracy: 0.7523\n",
      "Epoch 40/100\n",
      "81/81 [==============================] - 0s 445us/step - loss: 0.5652 - accuracy: 0.7465\n",
      "Epoch 41/100\n",
      "81/81 [==============================] - 0s 538us/step - loss: 0.5588 - accuracy: 0.7531\n",
      "Epoch 42/100\n",
      "81/81 [==============================] - 0s 448us/step - loss: 0.5553 - accuracy: 0.7570\n",
      "Epoch 43/100\n",
      "81/81 [==============================] - 0s 450us/step - loss: 0.5552 - accuracy: 0.7598\n",
      "Epoch 44/100\n",
      "81/81 [==============================] - 0s 439us/step - loss: 0.5496 - accuracy: 0.7555\n",
      "Epoch 45/100\n",
      "81/81 [==============================] - 0s 443us/step - loss: 0.5532 - accuracy: 0.7574\n",
      "Epoch 46/100\n",
      "81/81 [==============================] - 0s 438us/step - loss: 0.5489 - accuracy: 0.7516\n",
      "Epoch 47/100\n",
      "81/81 [==============================] - 0s 440us/step - loss: 0.5473 - accuracy: 0.7609\n",
      "Epoch 48/100\n",
      "81/81 [==============================] - 0s 435us/step - loss: 0.5428 - accuracy: 0.7601\n",
      "Epoch 49/100\n",
      "81/81 [==============================] - 0s 442us/step - loss: 0.5455 - accuracy: 0.7520\n",
      "Epoch 50/100\n",
      "81/81 [==============================] - 0s 451us/step - loss: 0.5413 - accuracy: 0.7644\n",
      "Epoch 51/100\n",
      "81/81 [==============================] - 0s 439us/step - loss: 0.5443 - accuracy: 0.7621\n",
      "Epoch 52/100\n",
      "81/81 [==============================] - 0s 440us/step - loss: 0.5430 - accuracy: 0.7570\n",
      "Epoch 53/100\n",
      "81/81 [==============================] - 0s 759us/step - loss: 0.5378 - accuracy: 0.7687\n",
      "Epoch 54/100\n",
      "81/81 [==============================] - 0s 443us/step - loss: 0.5313 - accuracy: 0.7765\n",
      "Epoch 55/100\n",
      "81/81 [==============================] - 0s 439us/step - loss: 0.5313 - accuracy: 0.7695\n",
      "Epoch 56/100\n",
      "81/81 [==============================] - 0s 439us/step - loss: 0.5328 - accuracy: 0.7687\n",
      "Epoch 57/100\n",
      "81/81 [==============================] - 0s 443us/step - loss: 0.5248 - accuracy: 0.7718\n",
      "Epoch 58/100\n",
      "81/81 [==============================] - 0s 444us/step - loss: 0.5271 - accuracy: 0.7816\n",
      "Epoch 59/100\n",
      "81/81 [==============================] - 0s 445us/step - loss: 0.5322 - accuracy: 0.7683\n",
      "Epoch 60/100\n",
      "81/81 [==============================] - 0s 452us/step - loss: 0.5237 - accuracy: 0.7718\n",
      "Epoch 61/100\n",
      "81/81 [==============================] - 0s 451us/step - loss: 0.5246 - accuracy: 0.7757\n",
      "Epoch 62/100\n",
      "81/81 [==============================] - 0s 446us/step - loss: 0.5176 - accuracy: 0.7793\n",
      "Epoch 63/100\n",
      "81/81 [==============================] - 0s 436us/step - loss: 0.5177 - accuracy: 0.7800\n",
      "Epoch 64/100\n",
      "81/81 [==============================] - 0s 439us/step - loss: 0.5229 - accuracy: 0.7730\n",
      "Epoch 65/100\n",
      "81/81 [==============================] - 0s 453us/step - loss: 0.5184 - accuracy: 0.7800\n",
      "Epoch 66/100\n",
      "81/81 [==============================] - 0s 446us/step - loss: 0.5170 - accuracy: 0.7894\n",
      "Epoch 67/100\n",
      "81/81 [==============================] - 0s 441us/step - loss: 0.5157 - accuracy: 0.7808\n",
      "Epoch 68/100\n",
      "81/81 [==============================] - 0s 441us/step - loss: 0.5155 - accuracy: 0.7800\n",
      "Epoch 69/100\n",
      "81/81 [==============================] - 0s 440us/step - loss: 0.5100 - accuracy: 0.7824\n",
      "Epoch 70/100\n",
      "81/81 [==============================] - 0s 444us/step - loss: 0.5102 - accuracy: 0.7859\n",
      "Epoch 71/100\n",
      "81/81 [==============================] - 0s 444us/step - loss: 0.5110 - accuracy: 0.7890\n",
      "Epoch 72/100\n",
      "81/81 [==============================] - 0s 437us/step - loss: 0.5083 - accuracy: 0.7808\n",
      "Epoch 73/100\n",
      "81/81 [==============================] - 0s 438us/step - loss: 0.5088 - accuracy: 0.7878\n",
      "Epoch 74/100\n",
      "81/81 [==============================] - 0s 446us/step - loss: 0.5131 - accuracy: 0.7859\n",
      "Epoch 75/100\n",
      "81/81 [==============================] - 0s 442us/step - loss: 0.5039 - accuracy: 0.7886\n",
      "Epoch 76/100\n",
      "81/81 [==============================] - 0s 480us/step - loss: 0.5040 - accuracy: 0.7890\n"
     ]
    }
   ],
   "source": [
    "# Create model\n",
    "classifier = Sequential()\n",
    "\n",
    "# Adding an input layer consisting of 64 neurons, f. activation - RELU\n",
    "# and an input shape corresponding to X_train.shape[1]\n",
    "classifier.add(Dense(64, activation = 'relu', input_shape=(X_train.shape[1],)))\n",
    "# Adding the first hidden layer consisting of 32 neurons and f. activation - RELU\n",
    "classifier.add(Dense(32, activation = 'relu'))\n",
    "# Adding a second hidden layer consisting of 16 neurons and f. activation - RELU\n",
    "classifier.add(Dense(16, activation = 'relu'))\n",
    "# Adding an output layer consisting of 5 neurons and activation - Softmax\n",
    "# (because) we have 5 predicted weather conditions\n",
    "classifier.add(Dense(5, activation = 'softmax'))\n",
    "\n",
    "# Compilation of the model using the Adam optimizer (with learning rate = 0.001)\n",
    "# sparse_categorical_crossentropy loss function and accuracy tracking as a metric\n",
    "classifier.compile(optimizer=Adam(learning_rate=0.001), loss='sparse_categorical_crossentropy', metrics=['accuracy'])\n",
    "\n",
    "# Set early stopping condition: accuracy tracking, patience = 1,\n",
    "# and restoring the best weights. In case the accuracy decreases over 10 epochs -\n",
    "# - then the best weights are restored\n",
    "early_stopping = EarlyStopping(monitor='accuracy', patience=10, restore_best_weights=True)\n",
    "\n",
    "# Training the model on training data (X_train and y_train)\n",
    "# training batch size = 32, number of epochs = 100 and use of early stopping\n",
    "history = classifier.fit(X_train, y_train, batch_size = 32, epochs = 100, callbacks=[early_stopping])"
   ]
  },
  {
   "cell_type": "code",
   "execution_count": 57,
   "metadata": {},
   "outputs": [
    {
     "data": {
      "image/png": "[encoded data removed]",
      "text/plain": [
       "<Figure size 1500x500 with 3 Axes>"
      ]
     },
     "metadata": {},
     "output_type": "display_data"
    }
   ],
   "source": [
    "loss = history.history['loss']\n",
    "acc = history.history['accuracy']\n",
    "model_epochs = np.arange(1, len(loss) + 1)\n",
    "\n",
    "plt.figure(figsize=(15, 5))\n",
    "plt.axis('off')\n",
    "plt.title('Model training')\n",
    "\n",
    "plt.subplot(1, 2, 1)\n",
    "plt.xlabel('epochs')\n",
    "plt.ylabel('loss')\n",
    "plt.plot(model_epochs, loss, marker='o', color='green')\n",
    "\n",
    "plt.subplot(1, 2, 2)\n",
    "plt.xlabel('epochs')\n",
    "plt.ylabel('accuracy')\n",
    "plt.plot(model_epochs, acc, marker='^', color='gold')\n",
    "\n",
    "plt.subplots_adjust(wspace=0.3)\n",
    "plt.show()"
   ]
  },
  {
   "cell_type": "markdown",
   "metadata": {},
   "source": [
    "### Model evaluation - confusion matrix and prediction for random values"
   ]
  },
  {
   "cell_type": "code",
   "execution_count": 58,
   "metadata": {},
   "outputs": [],
   "source": [
    "from sklearn.metrics import confusion_matrix, ConfusionMatrixDisplay, accuracy_score"
   ]
  },
  {
   "cell_type": "code",
   "execution_count": 59,
   "metadata": {},
   "outputs": [
    {
     "name": "stdout",
     "output_type": "stream",
     "text": [
      "21/21 [==============================] - 0s 363us/step\n"
     ]
    },
    {
     "data": {
      "image/png": "[encoded data removed]",
      "text/plain": [
       "<Figure size 640x480 with 2 Axes>"
      ]
     },
     "metadata": {},
     "output_type": "display_data"
    },
    {
     "name": "stdout",
     "output_type": "stream",
     "text": [
      "Accuracy: \u001b[93m0.7472698907956318\n"
     ]
    }
   ],
   "source": [
    "# Create a confusion matrix and display it\n",
    "# create a y_pred variable containing predicted data for test data\n",
    "y_pred = classifier.predict(X_test)\n",
    "# y_pred - selecting the neuron with the highest prediction probability\n",
    "y_pred = np.argmax(y_pred, axis=1)\n",
    "# creating a confusion matrix based on correct data and predicted data\n",
    "cm = confusion_matrix(y_test, y_pred)\n",
    "# create an object to display the confusion matrix\n",
    "disp = ConfusionMatrixDisplay(cm)\n",
    "# plotting the confusion matrix on the chart\n",
    "disp.plot()\n",
    "# display the chart\n",
    "plt.show()\n",
    "\n",
    "print('Accuracy:', '\\033[93m' + str(accuracy_score(y_test,y_pred)))"
   ]
  },
  {
   "cell_type": "code",
   "execution_count": 60,
   "metadata": {},
   "outputs": [
    {
     "name": "stdout",
     "output_type": "stream",
     "text": [
      "      precipitation   temp_max   temp_min      wind  weather\n",
      "687            26.2  12.800000   9.400000  3.900000        2\n",
      "1072            9.1  14.400000   8.900000  4.200000        2\n",
      "1232            0.0  19.400000  10.600000  2.100000        4\n",
      "2257            0.0   7.114379  -5.253061  0.545089        0\n",
      "357             6.6   7.200000   3.300000  2.500000        2\n",
      "\n",
      "Original weather: \u001b[93mrain\u001b[0m,           Predicted weather: \u001b[93mrain\u001b[0m\n",
      "Original weather: \u001b[93mrain\u001b[0m,           Predicted weather: \u001b[93mrain\u001b[0m\n",
      "Original weather: \u001b[93msun\u001b[0m,           Predicted weather: \u001b[93mdrizzle\u001b[0m\n",
      "Original weather: \u001b[93mdrizzle\u001b[0m,           Predicted weather: \u001b[93mdrizzle\u001b[0m\n",
      "Original weather: \u001b[93mrain\u001b[0m,           Predicted weather: \u001b[93mrain\u001b[0m\n"
     ]
    }
   ],
   "source": [
    "# Prediction for randomly selected 5 data points\n",
    "sample = df.sample(5)\n",
    "print(sample, end='\\n\\n')\n",
    "# iterate through each index of the selected rows\n",
    "for idx in sample.index:\n",
    "    # selecting a weather value from a random row\n",
    "    weather = df.loc[idx]['weather']\n",
    "    # create a y_pred object containing a prediction of the weather type for a given row\n",
    "    y_pred = classifier.predict(np.array(df.loc[idx].drop('weather').values).reshape(1, -1), verbose=0)\n",
    "    # display a comparison of the original weather with the predicted type\n",
    "    print(f'Original weather: \\033[93m{weather_map[weather]}\\033[0m,\\\n",
    "           Predicted weather: \\033[93m{weather_map[np.argmax(y_pred)]}\\033[0m')"
   ]
  },
  {
   "cell_type": "markdown",
   "metadata": {},
   "source": [
    "## Created and trained a model using the cross-validation technique"
   ]
  },
  {
   "cell_type": "markdown",
   "metadata": {},
   "source": [
    "### Checking whether the same model as above trained using cross-validation will achieve a better result"
   ]
  },
  {
   "cell_type": "code",
   "execution_count": 61,
   "metadata": {},
   "outputs": [
    {
     "name": "stdout",
     "output_type": "stream",
     "text": [
      "Epoch 1/100\n",
      "81/81 [==============================] - 0s 469us/step - loss: 1.4434 - accuracy: 0.3374\n",
      "Epoch 2/100\n",
      "81/81 [==============================] - 0s 448us/step - loss: 1.1334 - accuracy: 0.5230\n",
      "Epoch 3/100\n",
      "81/81 [==============================] - 0s 454us/step - loss: 0.9713 - accuracy: 0.5924\n",
      "Epoch 4/100\n",
      "81/81 [==============================] - 0s 453us/step - loss: 0.8772 - accuracy: 0.6279\n",
      "Epoch 5/100\n",
      "81/81 [==============================] - 0s 447us/step - loss: 0.8220 - accuracy: 0.6521\n",
      "Epoch 6/100\n",
      "81/81 [==============================] - 0s 449us/step - loss: 0.7679 - accuracy: 0.6755\n",
      "Epoch 7/100\n",
      "81/81 [==============================] - 0s 448us/step - loss: 0.7221 - accuracy: 0.6970\n",
      "Epoch 8/100\n",
      "81/81 [==============================] - 0s 447us/step - loss: 0.6961 - accuracy: 0.7083\n",
      "Epoch 9/100\n",
      "81/81 [==============================] - 0s 761us/step - loss: 0.6756 - accuracy: 0.7141\n",
      "Epoch 10/100\n",
      "81/81 [==============================] - 0s 453us/step - loss: 0.6561 - accuracy: 0.7254\n",
      "Epoch 11/100\n",
      "81/81 [==============================] - 0s 451us/step - loss: 0.6418 - accuracy: 0.7274\n",
      "Epoch 12/100\n",
      "81/81 [==============================] - 0s 454us/step - loss: 0.6327 - accuracy: 0.7352\n",
      "Epoch 13/100\n",
      "81/81 [==============================] - 0s 444us/step - loss: 0.6269 - accuracy: 0.7278\n",
      "Epoch 14/100\n",
      "81/81 [==============================] - 0s 441us/step - loss: 0.6112 - accuracy: 0.7360\n",
      "Epoch 15/100\n",
      "81/81 [==============================] - 0s 455us/step - loss: 0.6059 - accuracy: 0.7402\n",
      "Epoch 16/100\n",
      "81/81 [==============================] - 0s 453us/step - loss: 0.6004 - accuracy: 0.7340\n",
      "Epoch 17/100\n",
      "81/81 [==============================] - 0s 439us/step - loss: 0.5940 - accuracy: 0.7402\n",
      "Epoch 18/100\n",
      "81/81 [==============================] - 0s 447us/step - loss: 0.5919 - accuracy: 0.7399\n",
      "Epoch 19/100\n",
      "81/81 [==============================] - 0s 449us/step - loss: 0.5846 - accuracy: 0.7418\n",
      "Epoch 20/100\n",
      "81/81 [==============================] - 0s 485us/step - loss: 0.5822 - accuracy: 0.7496\n",
      "Epoch 21/100\n",
      "81/81 [==============================] - 0s 460us/step - loss: 0.5798 - accuracy: 0.7449\n",
      "Epoch 22/100\n",
      "81/81 [==============================] - 0s 461us/step - loss: 0.5780 - accuracy: 0.7508\n",
      "Epoch 23/100\n",
      "81/81 [==============================] - 0s 466us/step - loss: 0.5720 - accuracy: 0.7453\n",
      "Epoch 24/100\n",
      "81/81 [==============================] - 0s 446us/step - loss: 0.5725 - accuracy: 0.7457\n",
      "Epoch 25/100\n",
      "81/81 [==============================] - 0s 450us/step - loss: 0.5632 - accuracy: 0.7527\n",
      "Epoch 26/100\n",
      "81/81 [==============================] - 0s 443us/step - loss: 0.5750 - accuracy: 0.7465\n",
      "Epoch 27/100\n",
      "81/81 [==============================] - 0s 445us/step - loss: 0.5646 - accuracy: 0.7508\n",
      "Epoch 28/100\n",
      "81/81 [==============================] - 0s 446us/step - loss: 0.5594 - accuracy: 0.7516\n",
      "Epoch 29/100\n",
      "81/81 [==============================] - 0s 461us/step - loss: 0.5601 - accuracy: 0.7523\n",
      "Epoch 30/100\n",
      "81/81 [==============================] - 0s 453us/step - loss: 0.5570 - accuracy: 0.7504\n",
      "Epoch 31/100\n",
      "81/81 [==============================] - 0s 522us/step - loss: 0.5540 - accuracy: 0.7559\n",
      "Epoch 32/100\n",
      "81/81 [==============================] - 0s 878us/step - loss: 0.5565 - accuracy: 0.7527\n",
      "Epoch 33/100\n",
      "81/81 [==============================] - 0s 469us/step - loss: 0.5487 - accuracy: 0.7601\n",
      "Epoch 34/100\n",
      "81/81 [==============================] - 0s 454us/step - loss: 0.5568 - accuracy: 0.7508\n",
      "Epoch 35/100\n",
      "81/81 [==============================] - 0s 767us/step - loss: 0.5463 - accuracy: 0.7547\n",
      "Epoch 36/100\n",
      "81/81 [==============================] - 0s 449us/step - loss: 0.5501 - accuracy: 0.7598\n",
      "Epoch 37/100\n",
      "81/81 [==============================] - 0s 455us/step - loss: 0.5407 - accuracy: 0.7625\n",
      "Epoch 38/100\n",
      "81/81 [==============================] - 0s 442us/step - loss: 0.5468 - accuracy: 0.7551\n",
      "Epoch 39/100\n",
      "81/81 [==============================] - 0s 443us/step - loss: 0.5387 - accuracy: 0.7598\n",
      "Epoch 40/100\n",
      "81/81 [==============================] - 0s 438us/step - loss: 0.5406 - accuracy: 0.7570\n",
      "Epoch 41/100\n",
      "81/81 [==============================] - 0s 449us/step - loss: 0.5357 - accuracy: 0.7640\n",
      "Epoch 42/100\n",
      "81/81 [==============================] - 0s 455us/step - loss: 0.5348 - accuracy: 0.7679\n",
      "Epoch 43/100\n",
      "81/81 [==============================] - 0s 453us/step - loss: 0.5341 - accuracy: 0.7695\n",
      "Epoch 44/100\n",
      "81/81 [==============================] - 0s 483us/step - loss: 0.5329 - accuracy: 0.7668\n",
      "Epoch 45/100\n",
      "81/81 [==============================] - 0s 445us/step - loss: 0.5365 - accuracy: 0.7621\n",
      "Epoch 46/100\n",
      "81/81 [==============================] - 0s 453us/step - loss: 0.5359 - accuracy: 0.7621\n",
      "Epoch 47/100\n",
      "81/81 [==============================] - 0s 443us/step - loss: 0.5343 - accuracy: 0.7644\n",
      "Epoch 48/100\n",
      "81/81 [==============================] - 0s 441us/step - loss: 0.5421 - accuracy: 0.7559\n",
      "Epoch 49/100\n",
      "81/81 [==============================] - 0s 443us/step - loss: 0.5274 - accuracy: 0.7695\n",
      "Epoch 50/100\n",
      "81/81 [==============================] - 0s 441us/step - loss: 0.5306 - accuracy: 0.7676\n",
      "Epoch 51/100\n",
      "81/81 [==============================] - 0s 449us/step - loss: 0.5240 - accuracy: 0.7699\n",
      "Epoch 52/100\n",
      "81/81 [==============================] - 0s 469us/step - loss: 0.5242 - accuracy: 0.7711\n",
      "Epoch 53/100\n",
      "81/81 [==============================] - 0s 451us/step - loss: 0.5328 - accuracy: 0.7695\n",
      "Epoch 54/100\n",
      "81/81 [==============================] - 0s 450us/step - loss: 0.5213 - accuracy: 0.7730\n",
      "Epoch 55/100\n",
      "81/81 [==============================] - 0s 450us/step - loss: 0.5222 - accuracy: 0.7734\n",
      "Epoch 56/100\n",
      "81/81 [==============================] - 0s 446us/step - loss: 0.5194 - accuracy: 0.7695\n",
      "Epoch 57/100\n",
      "81/81 [==============================] - 0s 446us/step - loss: 0.5233 - accuracy: 0.7703\n",
      "Epoch 58/100\n",
      "81/81 [==============================] - 0s 449us/step - loss: 0.5211 - accuracy: 0.7676\n",
      "Epoch 59/100\n",
      "81/81 [==============================] - 0s 441us/step - loss: 0.5138 - accuracy: 0.7668\n",
      "Epoch 60/100\n",
      "81/81 [==============================] - 0s 489us/step - loss: 0.5131 - accuracy: 0.7804\n",
      "Epoch 61/100\n",
      "81/81 [==============================] - 0s 765us/step - loss: 0.5158 - accuracy: 0.7691\n",
      "Epoch 62/100\n",
      "81/81 [==============================] - 0s 448us/step - loss: 0.5129 - accuracy: 0.7785\n",
      "Epoch 63/100\n",
      "81/81 [==============================] - 0s 439us/step - loss: 0.5123 - accuracy: 0.7769\n",
      "Epoch 64/100\n",
      "81/81 [==============================] - 0s 448us/step - loss: 0.5191 - accuracy: 0.7711\n",
      "Epoch 65/100\n",
      "81/81 [==============================] - 0s 448us/step - loss: 0.5131 - accuracy: 0.7816\n",
      "Epoch 66/100\n",
      "81/81 [==============================] - 0s 442us/step - loss: 0.5109 - accuracy: 0.7757\n",
      "Epoch 67/100\n",
      "81/81 [==============================] - 0s 446us/step - loss: 0.5067 - accuracy: 0.7800\n",
      "Epoch 68/100\n",
      "81/81 [==============================] - 0s 444us/step - loss: 0.5064 - accuracy: 0.7777\n",
      "Epoch 69/100\n",
      "81/81 [==============================] - 0s 447us/step - loss: 0.5090 - accuracy: 0.7800\n",
      "Epoch 70/100\n",
      "81/81 [==============================] - 0s 449us/step - loss: 0.5048 - accuracy: 0.7800\n",
      "Epoch 71/100\n",
      "81/81 [==============================] - 0s 445us/step - loss: 0.5071 - accuracy: 0.7765\n",
      "Epoch 72/100\n",
      "81/81 [==============================] - 0s 443us/step - loss: 0.4999 - accuracy: 0.7820\n",
      "Epoch 73/100\n",
      "81/81 [==============================] - 0s 444us/step - loss: 0.5044 - accuracy: 0.7839\n",
      "Epoch 74/100\n",
      "81/81 [==============================] - 0s 444us/step - loss: 0.5020 - accuracy: 0.7832\n",
      "Epoch 75/100\n",
      "81/81 [==============================] - 0s 470us/step - loss: 0.4990 - accuracy: 0.7843\n",
      "Epoch 76/100\n",
      "81/81 [==============================] - 0s 458us/step - loss: 0.4971 - accuracy: 0.7843\n",
      "Epoch 77/100\n",
      "81/81 [==============================] - 0s 441us/step - loss: 0.5008 - accuracy: 0.7816\n",
      "Epoch 78/100\n",
      "81/81 [==============================] - 0s 438us/step - loss: 0.5017 - accuracy: 0.7824\n",
      "Epoch 79/100\n",
      "81/81 [==============================] - 0s 450us/step - loss: 0.4973 - accuracy: 0.7863\n",
      "Epoch 80/100\n",
      "81/81 [==============================] - 0s 446us/step - loss: 0.4873 - accuracy: 0.7898\n",
      "Epoch 81/100\n",
      "81/81 [==============================] - 0s 447us/step - loss: 0.4967 - accuracy: 0.7867\n",
      "Epoch 82/100\n",
      "81/81 [==============================] - 0s 447us/step - loss: 0.4995 - accuracy: 0.7828\n",
      "Epoch 83/100\n",
      "81/81 [==============================] - 0s 446us/step - loss: 0.5011 - accuracy: 0.7800\n",
      "Epoch 84/100\n",
      "81/81 [==============================] - 0s 750us/step - loss: 0.4876 - accuracy: 0.7929\n",
      "Epoch 85/100\n",
      "81/81 [==============================] - 0s 452us/step - loss: 0.4887 - accuracy: 0.7851\n",
      "Epoch 86/100\n",
      "81/81 [==============================] - 0s 441us/step - loss: 0.4824 - accuracy: 0.7972\n",
      "Epoch 87/100\n",
      "81/81 [==============================] - 0s 439us/step - loss: 0.4900 - accuracy: 0.7863\n",
      "Epoch 88/100\n",
      "81/81 [==============================] - 0s 441us/step - loss: 0.4950 - accuracy: 0.7812\n",
      "Epoch 89/100\n",
      "81/81 [==============================] - 0s 447us/step - loss: 0.4841 - accuracy: 0.7890\n",
      "Epoch 90/100\n",
      "81/81 [==============================] - 0s 446us/step - loss: 0.4848 - accuracy: 0.7851\n",
      "Epoch 91/100\n",
      "81/81 [==============================] - 0s 445us/step - loss: 0.4787 - accuracy: 0.7941\n",
      "Epoch 92/100\n",
      "81/81 [==============================] - 0s 443us/step - loss: 0.4806 - accuracy: 0.7890\n",
      "Epoch 93/100\n",
      "81/81 [==============================] - 0s 450us/step - loss: 0.4803 - accuracy: 0.7890\n",
      "Epoch 94/100\n",
      "81/81 [==============================] - 0s 444us/step - loss: 0.4911 - accuracy: 0.7851\n",
      "Epoch 95/100\n",
      "81/81 [==============================] - 0s 453us/step - loss: 0.4765 - accuracy: 0.7976\n",
      "Epoch 96/100\n",
      "81/81 [==============================] - 0s 440us/step - loss: 0.4758 - accuracy: 0.7949\n",
      "Epoch 97/100\n",
      "81/81 [==============================] - 0s 443us/step - loss: 0.4761 - accuracy: 0.7995\n",
      "Epoch 98/100\n",
      "81/81 [==============================] - 0s 435us/step - loss: 0.4725 - accuracy: 0.7929\n",
      "Epoch 99/100\n",
      "81/81 [==============================] - 0s 446us/step - loss: 0.4751 - accuracy: 0.7999\n",
      "Epoch 100/100\n",
      "81/81 [==============================] - 0s 444us/step - loss: 0.4748 - accuracy: 0.7952\n",
      "21/21 [==============================] - 0s 420us/step - loss: 0.6058 - accuracy: 0.7410\n",
      "Epoch 1/100\n",
      "81/81 [==============================] - 0s 459us/step - loss: 1.4492 - accuracy: 0.4037\n",
      "Epoch 2/100\n",
      "81/81 [==============================] - 0s 446us/step - loss: 1.1784 - accuracy: 0.5144\n",
      "Epoch 3/100\n",
      "81/81 [==============================] - 0s 445us/step - loss: 1.0335 - accuracy: 0.5655\n",
      "Epoch 4/100\n",
      "81/81 [==============================] - 0s 442us/step - loss: 0.9410 - accuracy: 0.5952\n",
      "Epoch 5/100\n",
      "81/81 [==============================] - 0s 439us/step - loss: 0.8629 - accuracy: 0.6287\n",
      "Epoch 6/100\n",
      "81/81 [==============================] - 0s 441us/step - loss: 0.8123 - accuracy: 0.6595\n",
      "Epoch 7/100\n",
      "81/81 [==============================] - 0s 753us/step - loss: 0.7724 - accuracy: 0.6763\n",
      "Epoch 8/100\n",
      "81/81 [==============================] - 0s 440us/step - loss: 0.7379 - accuracy: 0.6923\n",
      "Epoch 9/100\n",
      "81/81 [==============================] - 0s 446us/step - loss: 0.7216 - accuracy: 0.6942\n",
      "Epoch 10/100\n",
      "81/81 [==============================] - 0s 442us/step - loss: 0.6932 - accuracy: 0.7165\n",
      "Epoch 11/100\n",
      "81/81 [==============================] - 0s 441us/step - loss: 0.6849 - accuracy: 0.6993\n",
      "Epoch 12/100\n",
      "81/81 [==============================] - 0s 438us/step - loss: 0.6714 - accuracy: 0.7145\n",
      "Epoch 13/100\n",
      "81/81 [==============================] - 0s 440us/step - loss: 0.6573 - accuracy: 0.7243\n",
      "Epoch 14/100\n",
      "81/81 [==============================] - 0s 444us/step - loss: 0.6561 - accuracy: 0.7211\n",
      "Epoch 15/100\n",
      "81/81 [==============================] - 0s 441us/step - loss: 0.6482 - accuracy: 0.7196\n",
      "Epoch 16/100\n",
      "81/81 [==============================] - 0s 439us/step - loss: 0.6317 - accuracy: 0.7332\n",
      "Epoch 17/100\n",
      "81/81 [==============================] - 0s 435us/step - loss: 0.6286 - accuracy: 0.7289\n",
      "Epoch 18/100\n",
      "81/81 [==============================] - 0s 446us/step - loss: 0.6269 - accuracy: 0.7285\n",
      "Epoch 19/100\n",
      "81/81 [==============================] - 0s 448us/step - loss: 0.6219 - accuracy: 0.7262\n",
      "Epoch 20/100\n",
      "81/81 [==============================] - 0s 435us/step - loss: 0.6127 - accuracy: 0.7305\n",
      "Epoch 21/100\n",
      "81/81 [==============================] - 0s 447us/step - loss: 0.6083 - accuracy: 0.7344\n",
      "Epoch 22/100\n",
      "81/81 [==============================] - 0s 437us/step - loss: 0.6029 - accuracy: 0.7344\n",
      "Epoch 23/100\n",
      "81/81 [==============================] - 0s 441us/step - loss: 0.6063 - accuracy: 0.7379\n",
      "Epoch 24/100\n",
      "81/81 [==============================] - 0s 445us/step - loss: 0.6031 - accuracy: 0.7402\n",
      "Epoch 25/100\n",
      "81/81 [==============================] - 0s 444us/step - loss: 0.5975 - accuracy: 0.7410\n",
      "Epoch 26/100\n",
      "81/81 [==============================] - 0s 440us/step - loss: 0.5982 - accuracy: 0.7418\n",
      "Epoch 27/100\n",
      "81/81 [==============================] - 0s 449us/step - loss: 0.6089 - accuracy: 0.7465\n",
      "Epoch 28/100\n",
      "81/81 [==============================] - 0s 443us/step - loss: 0.5859 - accuracy: 0.7516\n",
      "Epoch 29/100\n",
      "81/81 [==============================] - 0s 443us/step - loss: 0.5857 - accuracy: 0.7484\n",
      "Epoch 30/100\n",
      "81/81 [==============================] - 0s 435us/step - loss: 0.5789 - accuracy: 0.7516\n",
      "Epoch 31/100\n",
      "81/81 [==============================] - 0s 456us/step - loss: 0.5778 - accuracy: 0.7539\n",
      "Epoch 32/100\n",
      "81/81 [==============================] - 0s 439us/step - loss: 0.5759 - accuracy: 0.7516\n",
      "Epoch 33/100\n",
      "81/81 [==============================] - 0s 766us/step - loss: 0.5765 - accuracy: 0.7508\n",
      "Epoch 34/100\n",
      "81/81 [==============================] - 0s 436us/step - loss: 0.5661 - accuracy: 0.7504\n",
      "Epoch 35/100\n",
      "81/81 [==============================] - 0s 446us/step - loss: 0.5608 - accuracy: 0.7605\n",
      "Epoch 36/100\n",
      "81/81 [==============================] - 0s 437us/step - loss: 0.5631 - accuracy: 0.7586\n",
      "Epoch 37/100\n",
      "81/81 [==============================] - 0s 437us/step - loss: 0.5632 - accuracy: 0.7473\n",
      "Epoch 38/100\n",
      "81/81 [==============================] - 0s 437us/step - loss: 0.5608 - accuracy: 0.7551\n",
      "Epoch 39/100\n",
      "81/81 [==============================] - 0s 446us/step - loss: 0.5554 - accuracy: 0.7644\n",
      "Epoch 40/100\n",
      "81/81 [==============================] - 0s 442us/step - loss: 0.5531 - accuracy: 0.7640\n",
      "Epoch 41/100\n",
      "81/81 [==============================] - 0s 446us/step - loss: 0.5544 - accuracy: 0.7679\n",
      "Epoch 42/100\n",
      "81/81 [==============================] - 0s 436us/step - loss: 0.5448 - accuracy: 0.7637\n",
      "Epoch 43/100\n",
      "81/81 [==============================] - 0s 439us/step - loss: 0.5554 - accuracy: 0.7672\n",
      "Epoch 44/100\n",
      "81/81 [==============================] - 0s 449us/step - loss: 0.5469 - accuracy: 0.7687\n",
      "Epoch 45/100\n",
      "81/81 [==============================] - 0s 437us/step - loss: 0.5484 - accuracy: 0.7625\n",
      "Epoch 46/100\n",
      "81/81 [==============================] - 0s 447us/step - loss: 0.5495 - accuracy: 0.7715\n",
      "Epoch 47/100\n",
      "81/81 [==============================] - 0s 438us/step - loss: 0.5399 - accuracy: 0.7695\n",
      "Epoch 48/100\n",
      "81/81 [==============================] - 0s 441us/step - loss: 0.5341 - accuracy: 0.7707\n",
      "Epoch 49/100\n",
      "81/81 [==============================] - 0s 437us/step - loss: 0.5397 - accuracy: 0.7644\n",
      "Epoch 50/100\n",
      "81/81 [==============================] - 0s 448us/step - loss: 0.5343 - accuracy: 0.7730\n",
      "Epoch 51/100\n",
      "81/81 [==============================] - 0s 442us/step - loss: 0.5303 - accuracy: 0.7750\n",
      "Epoch 52/100\n",
      "81/81 [==============================] - 0s 434us/step - loss: 0.5272 - accuracy: 0.7707\n",
      "Epoch 53/100\n",
      "81/81 [==============================] - 0s 435us/step - loss: 0.5223 - accuracy: 0.7718\n",
      "Epoch 54/100\n",
      "81/81 [==============================] - 0s 451us/step - loss: 0.5242 - accuracy: 0.7777\n",
      "Epoch 55/100\n",
      "81/81 [==============================] - 0s 736us/step - loss: 0.5202 - accuracy: 0.7800\n",
      "Epoch 56/100\n",
      "81/81 [==============================] - 0s 447us/step - loss: 0.5190 - accuracy: 0.7812\n",
      "Epoch 57/100\n",
      "81/81 [==============================] - 0s 445us/step - loss: 0.5154 - accuracy: 0.7820\n",
      "Epoch 58/100\n",
      "81/81 [==============================] - 0s 444us/step - loss: 0.5229 - accuracy: 0.7828\n",
      "Epoch 59/100\n",
      "81/81 [==============================] - 0s 436us/step - loss: 0.5124 - accuracy: 0.7808\n",
      "Epoch 60/100\n",
      "81/81 [==============================] - 0s 443us/step - loss: 0.5097 - accuracy: 0.7898\n",
      "Epoch 61/100\n",
      "81/81 [==============================] - 0s 446us/step - loss: 0.5097 - accuracy: 0.7847\n",
      "Epoch 62/100\n",
      "81/81 [==============================] - 0s 444us/step - loss: 0.5116 - accuracy: 0.7816\n",
      "Epoch 63/100\n",
      "81/81 [==============================] - 0s 436us/step - loss: 0.5128 - accuracy: 0.7890\n",
      "Epoch 64/100\n",
      "81/81 [==============================] - 0s 442us/step - loss: 0.5066 - accuracy: 0.7812\n",
      "Epoch 65/100\n",
      "81/81 [==============================] - 0s 446us/step - loss: 0.5049 - accuracy: 0.7921\n",
      "Epoch 66/100\n",
      "81/81 [==============================] - 0s 441us/step - loss: 0.5069 - accuracy: 0.7878\n",
      "Epoch 67/100\n",
      "81/81 [==============================] - 0s 443us/step - loss: 0.5038 - accuracy: 0.7949\n",
      "Epoch 68/100\n",
      "81/81 [==============================] - 0s 433us/step - loss: 0.5032 - accuracy: 0.7863\n",
      "Epoch 69/100\n",
      "81/81 [==============================] - 0s 447us/step - loss: 0.4935 - accuracy: 0.7964\n",
      "Epoch 70/100\n",
      "81/81 [==============================] - 0s 440us/step - loss: 0.4969 - accuracy: 0.7917\n",
      "Epoch 71/100\n",
      "81/81 [==============================] - 0s 441us/step - loss: 0.4977 - accuracy: 0.7906\n",
      "Epoch 72/100\n",
      "81/81 [==============================] - 0s 443us/step - loss: 0.4881 - accuracy: 0.7968\n",
      "Epoch 73/100\n",
      "81/81 [==============================] - 0s 442us/step - loss: 0.4941 - accuracy: 0.8011\n",
      "Epoch 74/100\n",
      "81/81 [==============================] - 0s 440us/step - loss: 0.4956 - accuracy: 0.7933\n",
      "Epoch 75/100\n",
      "81/81 [==============================] - 0s 437us/step - loss: 0.4957 - accuracy: 0.7878\n",
      "Epoch 76/100\n",
      "81/81 [==============================] - 0s 748us/step - loss: 0.4918 - accuracy: 0.7968\n",
      "Epoch 77/100\n",
      "81/81 [==============================] - 0s 445us/step - loss: 0.4861 - accuracy: 0.7937\n",
      "Epoch 78/100\n",
      "81/81 [==============================] - 0s 440us/step - loss: 0.4877 - accuracy: 0.7902\n",
      "Epoch 79/100\n",
      "81/81 [==============================] - 0s 438us/step - loss: 0.4930 - accuracy: 0.7917\n",
      "Epoch 80/100\n",
      "81/81 [==============================] - 0s 439us/step - loss: 0.4872 - accuracy: 0.7976\n",
      "Epoch 81/100\n",
      "81/81 [==============================] - 0s 442us/step - loss: 0.4881 - accuracy: 0.7984\n",
      "Epoch 82/100\n",
      "81/81 [==============================] - 0s 445us/step - loss: 0.4747 - accuracy: 0.8046\n",
      "Epoch 83/100\n",
      "81/81 [==============================] - 0s 440us/step - loss: 0.4792 - accuracy: 0.7999\n",
      "Epoch 84/100\n",
      "81/81 [==============================] - 0s 436us/step - loss: 0.4856 - accuracy: 0.7988\n",
      "Epoch 85/100\n",
      "81/81 [==============================] - 0s 449us/step - loss: 0.4713 - accuracy: 0.8108\n",
      "Epoch 86/100\n",
      "81/81 [==============================] - 0s 445us/step - loss: 0.4778 - accuracy: 0.8062\n",
      "Epoch 87/100\n",
      "81/81 [==============================] - 0s 438us/step - loss: 0.4737 - accuracy: 0.8042\n",
      "Epoch 88/100\n",
      "81/81 [==============================] - 0s 434us/step - loss: 0.4774 - accuracy: 0.8027\n",
      "Epoch 89/100\n",
      "81/81 [==============================] - 0s 435us/step - loss: 0.4689 - accuracy: 0.8089\n",
      "Epoch 90/100\n",
      "81/81 [==============================] - 0s 445us/step - loss: 0.4697 - accuracy: 0.8128\n",
      "Epoch 91/100\n",
      "81/81 [==============================] - 0s 438us/step - loss: 0.4688 - accuracy: 0.8038\n",
      "Epoch 92/100\n",
      "81/81 [==============================] - 0s 434us/step - loss: 0.4720 - accuracy: 0.8069\n",
      "Epoch 93/100\n",
      "81/81 [==============================] - 0s 434us/step - loss: 0.4690 - accuracy: 0.8101\n",
      "Epoch 94/100\n",
      "81/81 [==============================] - 0s 439us/step - loss: 0.4641 - accuracy: 0.8046\n",
      "Epoch 95/100\n",
      "81/81 [==============================] - 0s 436us/step - loss: 0.4611 - accuracy: 0.8073\n",
      "Epoch 96/100\n",
      "81/81 [==============================] - 0s 437us/step - loss: 0.4592 - accuracy: 0.8069\n",
      "Epoch 97/100\n",
      "81/81 [==============================] - 0s 748us/step - loss: 0.4651 - accuracy: 0.8144\n",
      "Epoch 98/100\n",
      "81/81 [==============================] - 0s 442us/step - loss: 0.4646 - accuracy: 0.8042\n",
      "Epoch 99/100\n",
      "81/81 [==============================] - 0s 434us/step - loss: 0.4597 - accuracy: 0.8081\n",
      "Epoch 100/100\n",
      "81/81 [==============================] - 0s 439us/step - loss: 0.4652 - accuracy: 0.8023\n",
      "21/21 [==============================] - 0s 436us/step - loss: 0.5173 - accuracy: 0.7972\n",
      "Epoch 1/100\n",
      "81/81 [==============================] - 0s 454us/step - loss: 1.4492 - accuracy: 0.3857\n",
      "Epoch 2/100\n",
      "81/81 [==============================] - 0s 455us/step - loss: 1.1307 - accuracy: 0.5277\n",
      "Epoch 3/100\n",
      "81/81 [==============================] - 0s 449us/step - loss: 0.9861 - accuracy: 0.5768\n",
      "Epoch 4/100\n",
      "81/81 [==============================] - 0s 445us/step - loss: 0.9025 - accuracy: 0.6154\n",
      "Epoch 5/100\n",
      "81/81 [==============================] - 0s 455us/step - loss: 0.8379 - accuracy: 0.6373\n",
      "Epoch 6/100\n",
      "81/81 [==============================] - 0s 444us/step - loss: 0.7980 - accuracy: 0.6568\n",
      "Epoch 7/100\n",
      "81/81 [==============================] - 0s 446us/step - loss: 0.7589 - accuracy: 0.6689\n",
      "Epoch 8/100\n",
      "81/81 [==============================] - 0s 447us/step - loss: 0.7297 - accuracy: 0.6856\n",
      "Epoch 9/100\n",
      "81/81 [==============================] - 0s 448us/step - loss: 0.7084 - accuracy: 0.6946\n",
      "Epoch 10/100\n",
      "81/81 [==============================] - 0s 456us/step - loss: 0.6891 - accuracy: 0.7079\n",
      "Epoch 11/100\n",
      "81/81 [==============================] - 0s 452us/step - loss: 0.6750 - accuracy: 0.7087\n",
      "Epoch 12/100\n",
      "81/81 [==============================] - 0s 447us/step - loss: 0.6653 - accuracy: 0.7204\n",
      "Epoch 13/100\n",
      "81/81 [==============================] - 0s 448us/step - loss: 0.6536 - accuracy: 0.7243\n",
      "Epoch 14/100\n",
      "81/81 [==============================] - 0s 440us/step - loss: 0.6449 - accuracy: 0.7204\n",
      "Epoch 15/100\n",
      "81/81 [==============================] - 0s 754us/step - loss: 0.6426 - accuracy: 0.7243\n",
      "Epoch 16/100\n",
      "81/81 [==============================] - 0s 450us/step - loss: 0.6361 - accuracy: 0.7184\n",
      "Epoch 17/100\n",
      "81/81 [==============================] - 0s 442us/step - loss: 0.6258 - accuracy: 0.7235\n",
      "Epoch 18/100\n",
      "81/81 [==============================] - 0s 446us/step - loss: 0.6264 - accuracy: 0.7250\n",
      "Epoch 19/100\n",
      "81/81 [==============================] - 0s 445us/step - loss: 0.6196 - accuracy: 0.7235\n",
      "Epoch 20/100\n",
      "81/81 [==============================] - 0s 453us/step - loss: 0.6183 - accuracy: 0.7285\n",
      "Epoch 21/100\n",
      "81/81 [==============================] - 0s 448us/step - loss: 0.6098 - accuracy: 0.7313\n",
      "Epoch 22/100\n",
      "81/81 [==============================] - 0s 450us/step - loss: 0.6063 - accuracy: 0.7356\n",
      "Epoch 23/100\n",
      "81/81 [==============================] - 0s 450us/step - loss: 0.6006 - accuracy: 0.7441\n",
      "Epoch 24/100\n",
      "81/81 [==============================] - 0s 456us/step - loss: 0.6030 - accuracy: 0.7379\n",
      "Epoch 25/100\n",
      "81/81 [==============================] - 0s 440us/step - loss: 0.5932 - accuracy: 0.7402\n",
      "Epoch 26/100\n",
      "81/81 [==============================] - 0s 439us/step - loss: 0.5937 - accuracy: 0.7387\n",
      "Epoch 27/100\n",
      "81/81 [==============================] - 0s 443us/step - loss: 0.5872 - accuracy: 0.7438\n",
      "Epoch 28/100\n",
      "81/81 [==============================] - 0s 441us/step - loss: 0.6101 - accuracy: 0.7391\n",
      "Epoch 29/100\n",
      "81/81 [==============================] - 0s 435us/step - loss: 0.5885 - accuracy: 0.7434\n",
      "Epoch 30/100\n",
      "81/81 [==============================] - 0s 454us/step - loss: 0.5849 - accuracy: 0.7473\n",
      "Epoch 31/100\n",
      "81/81 [==============================] - 0s 447us/step - loss: 0.5793 - accuracy: 0.7504\n",
      "Epoch 32/100\n",
      "81/81 [==============================] - 0s 440us/step - loss: 0.5795 - accuracy: 0.7457\n",
      "Epoch 33/100\n",
      "81/81 [==============================] - 0s 443us/step - loss: 0.5771 - accuracy: 0.7484\n",
      "Epoch 34/100\n",
      "81/81 [==============================] - 0s 747us/step - loss: 0.5705 - accuracy: 0.7512\n",
      "Epoch 35/100\n",
      "81/81 [==============================] - 0s 447us/step - loss: 0.5692 - accuracy: 0.7523\n",
      "Epoch 36/100\n",
      "81/81 [==============================] - 0s 437us/step - loss: 0.5634 - accuracy: 0.7512\n",
      "Epoch 37/100\n",
      "81/81 [==============================] - 0s 439us/step - loss: 0.5612 - accuracy: 0.7523\n",
      "Epoch 38/100\n",
      "81/81 [==============================] - 0s 443us/step - loss: 0.5580 - accuracy: 0.7574\n",
      "Epoch 39/100\n",
      "81/81 [==============================] - 0s 439us/step - loss: 0.5620 - accuracy: 0.7566\n",
      "Epoch 40/100\n",
      "81/81 [==============================] - 0s 446us/step - loss: 0.5589 - accuracy: 0.7559\n",
      "Epoch 41/100\n",
      "81/81 [==============================] - 0s 442us/step - loss: 0.5531 - accuracy: 0.7633\n",
      "Epoch 42/100\n",
      "81/81 [==============================] - 0s 436us/step - loss: 0.5655 - accuracy: 0.7523\n",
      "Epoch 43/100\n",
      "81/81 [==============================] - 0s 443us/step - loss: 0.5504 - accuracy: 0.7551\n",
      "Epoch 44/100\n",
      "81/81 [==============================] - 0s 447us/step - loss: 0.5496 - accuracy: 0.7594\n",
      "Epoch 45/100\n",
      "81/81 [==============================] - 0s 446us/step - loss: 0.5425 - accuracy: 0.7648\n",
      "Epoch 46/100\n",
      "81/81 [==============================] - 0s 435us/step - loss: 0.5451 - accuracy: 0.7594\n",
      "Epoch 47/100\n",
      "81/81 [==============================] - 0s 446us/step - loss: 0.5398 - accuracy: 0.7660\n",
      "Epoch 48/100\n",
      "81/81 [==============================] - 0s 443us/step - loss: 0.5406 - accuracy: 0.7703\n",
      "Epoch 49/100\n",
      "81/81 [==============================] - 0s 439us/step - loss: 0.5395 - accuracy: 0.7633\n",
      "Epoch 50/100\n",
      "81/81 [==============================] - 0s 435us/step - loss: 0.5348 - accuracy: 0.7668\n",
      "Epoch 51/100\n",
      "81/81 [==============================] - 0s 434us/step - loss: 0.5331 - accuracy: 0.7683\n",
      "Epoch 52/100\n",
      "81/81 [==============================] - 0s 756us/step - loss: 0.5368 - accuracy: 0.7652\n",
      "Epoch 53/100\n",
      "81/81 [==============================] - 0s 444us/step - loss: 0.5343 - accuracy: 0.7715\n",
      "Epoch 54/100\n",
      "81/81 [==============================] - 0s 439us/step - loss: 0.5334 - accuracy: 0.7683\n",
      "Epoch 55/100\n",
      "81/81 [==============================] - 0s 448us/step - loss: 0.5311 - accuracy: 0.7722\n",
      "Epoch 56/100\n",
      "81/81 [==============================] - 0s 440us/step - loss: 0.5270 - accuracy: 0.7695\n",
      "Epoch 57/100\n",
      "81/81 [==============================] - 0s 444us/step - loss: 0.5276 - accuracy: 0.7726\n",
      "Epoch 58/100\n",
      "81/81 [==============================] - 0s 442us/step - loss: 0.5215 - accuracy: 0.7746\n",
      "Epoch 59/100\n",
      "81/81 [==============================] - 0s 440us/step - loss: 0.5267 - accuracy: 0.7754\n",
      "Epoch 60/100\n",
      "81/81 [==============================] - 0s 435us/step - loss: 0.5287 - accuracy: 0.7711\n",
      "Epoch 61/100\n",
      "81/81 [==============================] - 0s 433us/step - loss: 0.5178 - accuracy: 0.7711\n",
      "Epoch 62/100\n",
      "81/81 [==============================] - 0s 449us/step - loss: 0.5159 - accuracy: 0.7816\n",
      "Epoch 63/100\n",
      "81/81 [==============================] - 0s 436us/step - loss: 0.5298 - accuracy: 0.7742\n",
      "Epoch 64/100\n",
      "81/81 [==============================] - 0s 446us/step - loss: 0.5209 - accuracy: 0.7722\n",
      "Epoch 65/100\n",
      "81/81 [==============================] - 0s 444us/step - loss: 0.5082 - accuracy: 0.7824\n",
      "Epoch 66/100\n",
      "81/81 [==============================] - 0s 439us/step - loss: 0.5059 - accuracy: 0.7820\n",
      "Epoch 67/100\n",
      "81/81 [==============================] - 0s 444us/step - loss: 0.5097 - accuracy: 0.7839\n",
      "Epoch 68/100\n",
      "81/81 [==============================] - 0s 440us/step - loss: 0.5119 - accuracy: 0.7839\n",
      "Epoch 69/100\n",
      "81/81 [==============================] - 0s 438us/step - loss: 0.5226 - accuracy: 0.7757\n",
      "Epoch 70/100\n",
      "81/81 [==============================] - 0s 435us/step - loss: 0.5141 - accuracy: 0.7785\n",
      "Epoch 71/100\n",
      "81/81 [==============================] - 0s 435us/step - loss: 0.5006 - accuracy: 0.7824\n",
      "Epoch 72/100\n",
      "81/81 [==============================] - 0s 438us/step - loss: 0.5055 - accuracy: 0.7828\n",
      "Epoch 73/100\n",
      "81/81 [==============================] - 0s 746us/step - loss: 0.5006 - accuracy: 0.7828\n",
      "Epoch 74/100\n",
      "81/81 [==============================] - 0s 450us/step - loss: 0.4988 - accuracy: 0.7894\n",
      "Epoch 75/100\n",
      "81/81 [==============================] - 0s 432us/step - loss: 0.5020 - accuracy: 0.7835\n",
      "Epoch 76/100\n",
      "81/81 [==============================] - 0s 440us/step - loss: 0.4963 - accuracy: 0.7843\n",
      "Epoch 77/100\n",
      "81/81 [==============================] - 0s 440us/step - loss: 0.4935 - accuracy: 0.7898\n",
      "Epoch 78/100\n",
      "81/81 [==============================] - 0s 442us/step - loss: 0.4926 - accuracy: 0.7890\n",
      "Epoch 79/100\n",
      "81/81 [==============================] - 0s 443us/step - loss: 0.4950 - accuracy: 0.7890\n",
      "Epoch 80/100\n",
      "81/81 [==============================] - 0s 442us/step - loss: 0.4930 - accuracy: 0.7991\n",
      "Epoch 81/100\n",
      "81/81 [==============================] - 0s 444us/step - loss: 0.4987 - accuracy: 0.7871\n",
      "Epoch 82/100\n",
      "81/81 [==============================] - 0s 436us/step - loss: 0.4841 - accuracy: 0.7968\n",
      "Epoch 83/100\n",
      "81/81 [==============================] - 0s 499us/step - loss: 0.4881 - accuracy: 0.7917\n",
      "Epoch 84/100\n",
      "81/81 [==============================] - 0s 445us/step - loss: 0.4826 - accuracy: 0.7913\n",
      "Epoch 85/100\n",
      "81/81 [==============================] - 0s 448us/step - loss: 0.4892 - accuracy: 0.7890\n",
      "Epoch 86/100\n",
      "81/81 [==============================] - 0s 445us/step - loss: 0.4839 - accuracy: 0.7921\n",
      "Epoch 87/100\n",
      "81/81 [==============================] - 0s 443us/step - loss: 0.4897 - accuracy: 0.7867\n",
      "Epoch 88/100\n",
      "81/81 [==============================] - 0s 447us/step - loss: 0.4761 - accuracy: 0.8015\n",
      "Epoch 89/100\n",
      "81/81 [==============================] - 0s 436us/step - loss: 0.4806 - accuracy: 0.7906\n",
      "Epoch 90/100\n",
      "81/81 [==============================] - 0s 454us/step - loss: 0.4769 - accuracy: 0.7968\n",
      "Epoch 91/100\n",
      "81/81 [==============================] - 0s 732us/step - loss: 0.4749 - accuracy: 0.7995\n",
      "Epoch 92/100\n",
      "81/81 [==============================] - 0s 434us/step - loss: 0.4690 - accuracy: 0.7949\n",
      "Epoch 93/100\n",
      "81/81 [==============================] - 0s 442us/step - loss: 0.4677 - accuracy: 0.7991\n",
      "Epoch 94/100\n",
      "81/81 [==============================] - 0s 466us/step - loss: 0.4694 - accuracy: 0.7956\n",
      "Epoch 95/100\n",
      "81/81 [==============================] - 0s 500us/step - loss: 0.4680 - accuracy: 0.7929\n",
      "Epoch 96/100\n",
      "81/81 [==============================] - 0s 493us/step - loss: 0.4650 - accuracy: 0.7980\n",
      "Epoch 97/100\n",
      "81/81 [==============================] - 0s 489us/step - loss: 0.4685 - accuracy: 0.7999\n",
      "Epoch 98/100\n",
      "81/81 [==============================] - 0s 505us/step - loss: 0.4655 - accuracy: 0.7964\n",
      "21/21 [==============================] - 0s 544us/step - loss: 0.4781 - accuracy: 0.7925\n",
      "Epoch 1/100\n",
      "81/81 [==============================] - 0s 542us/step - loss: 1.4644 - accuracy: 0.3740\n",
      "Epoch 2/100\n",
      "81/81 [==============================] - 0s 515us/step - loss: 1.1717 - accuracy: 0.5332\n",
      "Epoch 3/100\n",
      "81/81 [==============================] - 0s 897us/step - loss: 1.0060 - accuracy: 0.5846\n",
      "Epoch 4/100\n",
      "81/81 [==============================] - 0s 536us/step - loss: 0.9011 - accuracy: 0.6205\n",
      "Epoch 5/100\n",
      "81/81 [==============================] - 0s 516us/step - loss: 0.8357 - accuracy: 0.6439\n",
      "Epoch 6/100\n",
      "81/81 [==============================] - 0s 518us/step - loss: 0.7870 - accuracy: 0.6642\n",
      "Epoch 7/100\n",
      "81/81 [==============================] - 0s 569us/step - loss: 0.7461 - accuracy: 0.6849\n",
      "Epoch 8/100\n",
      "81/81 [==============================] - 0s 524us/step - loss: 0.7193 - accuracy: 0.6989\n",
      "Epoch 9/100\n",
      "81/81 [==============================] - 0s 488us/step - loss: 0.6881 - accuracy: 0.7161\n",
      "Epoch 10/100\n",
      "81/81 [==============================] - 0s 464us/step - loss: 0.6701 - accuracy: 0.7122\n",
      "Epoch 11/100\n",
      "81/81 [==============================] - 0s 491us/step - loss: 0.6593 - accuracy: 0.7133\n",
      "Epoch 12/100\n",
      "81/81 [==============================] - 0s 523us/step - loss: 0.6432 - accuracy: 0.7227\n",
      "Epoch 13/100\n",
      "81/81 [==============================] - 0s 571us/step - loss: 0.6324 - accuracy: 0.7215\n",
      "Epoch 14/100\n",
      "81/81 [==============================] - 0s 531us/step - loss: 0.6392 - accuracy: 0.7180\n",
      "Epoch 15/100\n",
      "81/81 [==============================] - 0s 526us/step - loss: 0.6195 - accuracy: 0.7262\n",
      "Epoch 16/100\n",
      "81/81 [==============================] - 0s 529us/step - loss: 0.6135 - accuracy: 0.7301\n",
      "Epoch 17/100\n",
      "81/81 [==============================] - 0s 573us/step - loss: 0.6167 - accuracy: 0.7207\n",
      "Epoch 18/100\n",
      "81/81 [==============================] - 0s 920us/step - loss: 0.6047 - accuracy: 0.7402\n",
      "Epoch 19/100\n",
      "81/81 [==============================] - 0s 571us/step - loss: 0.5998 - accuracy: 0.7313\n",
      "Epoch 20/100\n",
      "81/81 [==============================] - 0s 514us/step - loss: 0.5951 - accuracy: 0.7336\n",
      "Epoch 21/100\n",
      "81/81 [==============================] - 0s 531us/step - loss: 0.5907 - accuracy: 0.7426\n",
      "Epoch 22/100\n",
      "81/81 [==============================] - 0s 490us/step - loss: 0.5895 - accuracy: 0.7426\n",
      "Epoch 23/100\n",
      "81/81 [==============================] - 0s 493us/step - loss: 0.5895 - accuracy: 0.7430\n",
      "Epoch 24/100\n",
      "81/81 [==============================] - 0s 506us/step - loss: 0.5842 - accuracy: 0.7449\n",
      "Epoch 25/100\n",
      "81/81 [==============================] - 0s 516us/step - loss: 0.5770 - accuracy: 0.7480\n",
      "Epoch 26/100\n",
      "81/81 [==============================] - 0s 537us/step - loss: 0.5743 - accuracy: 0.7473\n",
      "Epoch 27/100\n",
      "81/81 [==============================] - 0s 486us/step - loss: 0.5741 - accuracy: 0.7414\n",
      "Epoch 28/100\n",
      "81/81 [==============================] - 0s 463us/step - loss: 0.5738 - accuracy: 0.7477\n",
      "Epoch 29/100\n",
      "81/81 [==============================] - 0s 473us/step - loss: 0.5677 - accuracy: 0.7512\n",
      "Epoch 30/100\n",
      "81/81 [==============================] - 0s 467us/step - loss: 0.5691 - accuracy: 0.7508\n",
      "Epoch 31/100\n",
      "81/81 [==============================] - 0s 466us/step - loss: 0.5622 - accuracy: 0.7559\n",
      "Epoch 32/100\n",
      "81/81 [==============================] - 0s 464us/step - loss: 0.5538 - accuracy: 0.7559\n",
      "Epoch 33/100\n",
      "81/81 [==============================] - 0s 780us/step - loss: 0.5578 - accuracy: 0.7555\n",
      "Epoch 34/100\n",
      "81/81 [==============================] - 0s 483us/step - loss: 0.5598 - accuracy: 0.7531\n",
      "Epoch 35/100\n",
      "81/81 [==============================] - 0s 511us/step - loss: 0.5557 - accuracy: 0.7574\n",
      "Epoch 36/100\n",
      "81/81 [==============================] - 0s 490us/step - loss: 0.5651 - accuracy: 0.7492\n",
      "Epoch 37/100\n",
      "81/81 [==============================] - 0s 507us/step - loss: 0.5501 - accuracy: 0.7617\n",
      "Epoch 38/100\n",
      "81/81 [==============================] - 0s 514us/step - loss: 0.5521 - accuracy: 0.7555\n",
      "Epoch 39/100\n",
      "81/81 [==============================] - 0s 502us/step - loss: 0.5447 - accuracy: 0.7551\n",
      "Epoch 40/100\n",
      "81/81 [==============================] - 0s 522us/step - loss: 0.5408 - accuracy: 0.7664\n",
      "Epoch 41/100\n",
      "81/81 [==============================] - 0s 521us/step - loss: 0.5429 - accuracy: 0.7504\n",
      "Epoch 42/100\n",
      "81/81 [==============================] - 0s 517us/step - loss: 0.5490 - accuracy: 0.7637\n",
      "Epoch 43/100\n",
      "81/81 [==============================] - 0s 521us/step - loss: 0.5405 - accuracy: 0.7629\n",
      "Epoch 44/100\n",
      "81/81 [==============================] - 0s 457us/step - loss: 0.5395 - accuracy: 0.7656\n",
      "Epoch 45/100\n",
      "81/81 [==============================] - 0s 465us/step - loss: 0.5339 - accuracy: 0.7707\n",
      "Epoch 46/100\n",
      "81/81 [==============================] - 0s 450us/step - loss: 0.5329 - accuracy: 0.7668\n",
      "Epoch 47/100\n",
      "81/81 [==============================] - 0s 450us/step - loss: 0.5330 - accuracy: 0.7652\n",
      "Epoch 48/100\n",
      "81/81 [==============================] - 0s 813us/step - loss: 0.5404 - accuracy: 0.7637\n",
      "Epoch 49/100\n",
      "81/81 [==============================] - 0s 504us/step - loss: 0.5266 - accuracy: 0.7750\n",
      "Epoch 50/100\n",
      "81/81 [==============================] - 0s 502us/step - loss: 0.5273 - accuracy: 0.7703\n",
      "Epoch 51/100\n",
      "81/81 [==============================] - 0s 500us/step - loss: 0.5256 - accuracy: 0.7738\n",
      "Epoch 52/100\n",
      "81/81 [==============================] - 0s 539us/step - loss: 0.5219 - accuracy: 0.7769\n",
      "Epoch 53/100\n",
      "81/81 [==============================] - 0s 532us/step - loss: 0.5193 - accuracy: 0.7765\n",
      "Epoch 54/100\n",
      "81/81 [==============================] - 0s 503us/step - loss: 0.5303 - accuracy: 0.7722\n",
      "Epoch 55/100\n",
      "81/81 [==============================] - 0s 502us/step - loss: 0.5178 - accuracy: 0.7757\n",
      "Epoch 56/100\n",
      "81/81 [==============================] - 0s 546us/step - loss: 0.5274 - accuracy: 0.7707\n",
      "Epoch 57/100\n",
      "81/81 [==============================] - 0s 529us/step - loss: 0.5180 - accuracy: 0.7761\n",
      "Epoch 58/100\n",
      "81/81 [==============================] - 0s 510us/step - loss: 0.5143 - accuracy: 0.7734\n",
      "Epoch 59/100\n",
      "81/81 [==============================] - 0s 510us/step - loss: 0.5161 - accuracy: 0.7769\n",
      "Epoch 60/100\n",
      "81/81 [==============================] - 0s 534us/step - loss: 0.5068 - accuracy: 0.7832\n",
      "Epoch 61/100\n",
      "81/81 [==============================] - 0s 530us/step - loss: 0.5118 - accuracy: 0.7804\n",
      "Epoch 62/100\n",
      "81/81 [==============================] - 0s 844us/step - loss: 0.5095 - accuracy: 0.7789\n",
      "Epoch 63/100\n",
      "81/81 [==============================] - 0s 545us/step - loss: 0.5097 - accuracy: 0.7765\n",
      "Epoch 64/100\n",
      "81/81 [==============================] - 0s 531us/step - loss: 0.5015 - accuracy: 0.7867\n",
      "Epoch 65/100\n",
      "81/81 [==============================] - 0s 648us/step - loss: 0.5150 - accuracy: 0.7804\n",
      "Epoch 66/100\n",
      "81/81 [==============================] - 0s 823us/step - loss: 0.5060 - accuracy: 0.7785\n",
      "Epoch 67/100\n",
      "81/81 [==============================] - 0s 545us/step - loss: 0.5012 - accuracy: 0.7874\n",
      "Epoch 68/100\n",
      "81/81 [==============================] - 0s 624us/step - loss: 0.4991 - accuracy: 0.7843\n",
      "Epoch 69/100\n",
      "81/81 [==============================] - 0s 1ms/step - loss: 0.4973 - accuracy: 0.7913\n",
      "Epoch 70/100\n",
      "81/81 [==============================] - 0s 540us/step - loss: 0.4979 - accuracy: 0.7867\n",
      "Epoch 71/100\n",
      "81/81 [==============================] - 0s 526us/step - loss: 0.4929 - accuracy: 0.7894\n",
      "Epoch 72/100\n",
      "81/81 [==============================] - 0s 544us/step - loss: 0.4919 - accuracy: 0.7929\n",
      "Epoch 73/100\n",
      "81/81 [==============================] - 0s 525us/step - loss: 0.5004 - accuracy: 0.7828\n",
      "Epoch 74/100\n",
      "81/81 [==============================] - 0s 556us/step - loss: 0.4972 - accuracy: 0.7828\n",
      "Epoch 75/100\n",
      "81/81 [==============================] - 0s 495us/step - loss: 0.4901 - accuracy: 0.7952\n",
      "Epoch 76/100\n",
      "81/81 [==============================] - 0s 527us/step - loss: 0.4865 - accuracy: 0.7968\n",
      "Epoch 77/100\n",
      "81/81 [==============================] - 0s 582us/step - loss: 0.4882 - accuracy: 0.7921\n",
      "Epoch 78/100\n",
      "81/81 [==============================] - 0s 495us/step - loss: 0.4900 - accuracy: 0.7925\n",
      "Epoch 79/100\n",
      "81/81 [==============================] - 0s 498us/step - loss: 0.4841 - accuracy: 0.7906\n",
      "Epoch 80/100\n",
      "81/81 [==============================] - 0s 542us/step - loss: 0.4823 - accuracy: 0.7972\n",
      "Epoch 81/100\n",
      "81/81 [==============================] - 0s 507us/step - loss: 0.4805 - accuracy: 0.7910\n",
      "Epoch 82/100\n",
      "81/81 [==============================] - 0s 523us/step - loss: 0.4838 - accuracy: 0.7941\n",
      "Epoch 83/100\n",
      "81/81 [==============================] - 0s 506us/step - loss: 0.4928 - accuracy: 0.7851\n",
      "Epoch 84/100\n",
      "81/81 [==============================] - 0s 674us/step - loss: 0.4758 - accuracy: 0.8042\n",
      "Epoch 85/100\n",
      "81/81 [==============================] - 0s 1ms/step - loss: 0.4825 - accuracy: 0.7945\n",
      "Epoch 86/100\n",
      "81/81 [==============================] - 0s 485us/step - loss: 0.4781 - accuracy: 0.8038\n",
      "Epoch 87/100\n",
      "81/81 [==============================] - 0s 484us/step - loss: 0.4792 - accuracy: 0.7917\n",
      "Epoch 88/100\n",
      "81/81 [==============================] - 0s 511us/step - loss: 0.4750 - accuracy: 0.8050\n",
      "Epoch 89/100\n",
      "81/81 [==============================] - 0s 548us/step - loss: 0.4805 - accuracy: 0.7949\n",
      "Epoch 90/100\n",
      "81/81 [==============================] - 0s 488us/step - loss: 0.4757 - accuracy: 0.7991\n",
      "Epoch 91/100\n",
      "81/81 [==============================] - 0s 469us/step - loss: 0.4706 - accuracy: 0.8042\n",
      "Epoch 92/100\n",
      "81/81 [==============================] - 0s 465us/step - loss: 0.4681 - accuracy: 0.8027\n",
      "Epoch 93/100\n",
      "81/81 [==============================] - 0s 486us/step - loss: 0.4676 - accuracy: 0.8030\n",
      "Epoch 94/100\n",
      "81/81 [==============================] - 0s 461us/step - loss: 0.4634 - accuracy: 0.8034\n",
      "Epoch 95/100\n",
      "81/81 [==============================] - 0s 488us/step - loss: 0.4736 - accuracy: 0.8015\n",
      "Epoch 96/100\n",
      "81/81 [==============================] - 0s 778us/step - loss: 0.4731 - accuracy: 0.8023\n",
      "Epoch 97/100\n",
      "81/81 [==============================] - 0s 460us/step - loss: 0.4592 - accuracy: 0.8089\n",
      "Epoch 98/100\n",
      "81/81 [==============================] - 0s 452us/step - loss: 0.4630 - accuracy: 0.8077\n",
      "Epoch 99/100\n",
      "81/81 [==============================] - 0s 471us/step - loss: 0.4655 - accuracy: 0.8007\n",
      "Epoch 100/100\n",
      "81/81 [==============================] - 0s 461us/step - loss: 0.4608 - accuracy: 0.8069\n",
      "21/21 [==============================] - 0s 427us/step - loss: 0.5483 - accuracy: 0.7707\n",
      "Epoch 1/100\n",
      "81/81 [==============================] - 0s 454us/step - loss: 1.4588 - accuracy: 0.3732\n",
      "Epoch 2/100\n",
      "81/81 [==============================] - 0s 454us/step - loss: 1.1420 - accuracy: 0.5144\n",
      "Epoch 3/100\n",
      "81/81 [==============================] - 0s 454us/step - loss: 0.9902 - accuracy: 0.5764\n",
      "Epoch 4/100\n",
      "81/81 [==============================] - 0s 454us/step - loss: 0.9056 - accuracy: 0.6065\n",
      "Epoch 5/100\n",
      "81/81 [==============================] - 0s 590us/step - loss: 0.8531 - accuracy: 0.6307\n",
      "Epoch 6/100\n",
      "81/81 [==============================] - 0s 897us/step - loss: 0.8079 - accuracy: 0.6599\n",
      "Epoch 7/100\n",
      "81/81 [==============================] - 0s 478us/step - loss: 0.7757 - accuracy: 0.6595\n",
      "Epoch 8/100\n",
      "81/81 [==============================] - 0s 463us/step - loss: 0.7430 - accuracy: 0.6778\n",
      "Epoch 9/100\n",
      "81/81 [==============================] - 0s 450us/step - loss: 0.7216 - accuracy: 0.6872\n",
      "Epoch 10/100\n",
      "81/81 [==============================] - 0s 447us/step - loss: 0.6985 - accuracy: 0.6931\n",
      "Epoch 11/100\n",
      "81/81 [==============================] - 0s 812us/step - loss: 0.6851 - accuracy: 0.7063\n",
      "Epoch 12/100\n",
      "81/81 [==============================] - 0s 565us/step - loss: 0.6671 - accuracy: 0.6985\n",
      "Epoch 13/100\n",
      "81/81 [==============================] - 0s 522us/step - loss: 0.6579 - accuracy: 0.7016\n",
      "Epoch 14/100\n",
      "81/81 [==============================] - 0s 498us/step - loss: 0.6479 - accuracy: 0.7149\n",
      "Epoch 15/100\n",
      "81/81 [==============================] - 0s 509us/step - loss: 0.6425 - accuracy: 0.7149\n",
      "Epoch 16/100\n",
      "81/81 [==============================] - 0s 602us/step - loss: 0.6315 - accuracy: 0.7153\n",
      "Epoch 17/100\n",
      "81/81 [==============================] - 0s 507us/step - loss: 0.6281 - accuracy: 0.7106\n",
      "Epoch 18/100\n",
      "81/81 [==============================] - 0s 756us/step - loss: 0.6256 - accuracy: 0.7110\n",
      "Epoch 19/100\n",
      "81/81 [==============================] - 0s 1ms/step - loss: 0.6151 - accuracy: 0.7266\n",
      "Epoch 20/100\n",
      "81/81 [==============================] - 0s 1ms/step - loss: 0.6080 - accuracy: 0.7254\n",
      "Epoch 21/100\n",
      "81/81 [==============================] - 0s 515us/step - loss: 0.6093 - accuracy: 0.7250\n",
      "Epoch 22/100\n",
      "81/81 [==============================] - 0s 545us/step - loss: 0.6059 - accuracy: 0.7301\n",
      "Epoch 23/100\n",
      "81/81 [==============================] - 0s 529us/step - loss: 0.6023 - accuracy: 0.7285\n",
      "Epoch 24/100\n",
      "81/81 [==============================] - 0s 500us/step - loss: 0.5955 - accuracy: 0.7282\n",
      "Epoch 25/100\n",
      "81/81 [==============================] - 0s 510us/step - loss: 0.5972 - accuracy: 0.7309\n",
      "Epoch 26/100\n",
      "81/81 [==============================] - 0s 510us/step - loss: 0.5927 - accuracy: 0.7449\n",
      "Epoch 27/100\n",
      "81/81 [==============================] - 0s 510us/step - loss: 0.5879 - accuracy: 0.7422\n",
      "Epoch 28/100\n",
      "81/81 [==============================] - 0s 488us/step - loss: 0.5858 - accuracy: 0.7410\n",
      "Epoch 29/100\n",
      "81/81 [==============================] - 0s 500us/step - loss: 0.5793 - accuracy: 0.7473\n",
      "Epoch 30/100\n",
      "81/81 [==============================] - 0s 527us/step - loss: 0.5796 - accuracy: 0.7410\n",
      "Epoch 31/100\n",
      "81/81 [==============================] - 0s 501us/step - loss: 0.5852 - accuracy: 0.7383\n",
      "Epoch 32/100\n",
      "81/81 [==============================] - 0s 1ms/step - loss: 0.5761 - accuracy: 0.7395\n",
      "Epoch 33/100\n",
      "81/81 [==============================] - 0s 892us/step - loss: 0.5683 - accuracy: 0.7527\n",
      "Epoch 34/100\n",
      "81/81 [==============================] - 0s 502us/step - loss: 0.5677 - accuracy: 0.7457\n",
      "Epoch 35/100\n",
      "81/81 [==============================] - 0s 512us/step - loss: 0.5691 - accuracy: 0.7469\n",
      "Epoch 36/100\n",
      "81/81 [==============================] - 0s 539us/step - loss: 0.5669 - accuracy: 0.7500\n",
      "Epoch 37/100\n",
      "81/81 [==============================] - 0s 490us/step - loss: 0.5623 - accuracy: 0.7539\n",
      "Epoch 38/100\n",
      "81/81 [==============================] - 0s 493us/step - loss: 0.5618 - accuracy: 0.7551\n",
      "Epoch 39/100\n",
      "81/81 [==============================] - 0s 473us/step - loss: 0.5588 - accuracy: 0.7566\n",
      "Epoch 40/100\n",
      "81/81 [==============================] - 0s 471us/step - loss: 0.5581 - accuracy: 0.7582\n",
      "Epoch 41/100\n",
      "81/81 [==============================] - 0s 460us/step - loss: 0.5548 - accuracy: 0.7640\n",
      "Epoch 42/100\n",
      "81/81 [==============================] - 0s 462us/step - loss: 0.5520 - accuracy: 0.7621\n",
      "Epoch 43/100\n",
      "81/81 [==============================] - 0s 479us/step - loss: 0.5480 - accuracy: 0.7660\n",
      "Epoch 44/100\n",
      "81/81 [==============================] - 0s 875us/step - loss: 0.5488 - accuracy: 0.7613\n",
      "Epoch 45/100\n",
      "81/81 [==============================] - 0s 467us/step - loss: 0.5462 - accuracy: 0.7637\n",
      "Epoch 46/100\n",
      "81/81 [==============================] - 0s 461us/step - loss: 0.5486 - accuracy: 0.7640\n",
      "Epoch 47/100\n",
      "81/81 [==============================] - 0s 462us/step - loss: 0.5448 - accuracy: 0.7555\n",
      "Epoch 48/100\n",
      "81/81 [==============================] - 0s 466us/step - loss: 0.5409 - accuracy: 0.7629\n",
      "Epoch 49/100\n",
      "81/81 [==============================] - 0s 462us/step - loss: 0.5459 - accuracy: 0.7590\n",
      "Epoch 50/100\n",
      "81/81 [==============================] - 0s 458us/step - loss: 0.5417 - accuracy: 0.7586\n",
      "Epoch 51/100\n",
      "81/81 [==============================] - 0s 458us/step - loss: 0.5366 - accuracy: 0.7598\n",
      "Epoch 52/100\n",
      "81/81 [==============================] - 0s 460us/step - loss: 0.5391 - accuracy: 0.7668\n",
      "Epoch 53/100\n",
      "81/81 [==============================] - 0s 472us/step - loss: 0.5351 - accuracy: 0.7699\n",
      "Epoch 54/100\n",
      "81/81 [==============================] - 0s 461us/step - loss: 0.5393 - accuracy: 0.7640\n",
      "Epoch 55/100\n",
      "81/81 [==============================] - 0s 460us/step - loss: 0.5365 - accuracy: 0.7660\n",
      "Epoch 56/100\n",
      "81/81 [==============================] - 0s 471us/step - loss: 0.5329 - accuracy: 0.7703\n",
      "Epoch 57/100\n",
      "81/81 [==============================] - 0s 811us/step - loss: 0.5328 - accuracy: 0.7664\n",
      "Epoch 58/100\n",
      "81/81 [==============================] - 0s 470us/step - loss: 0.5313 - accuracy: 0.7699\n",
      "Epoch 59/100\n",
      "81/81 [==============================] - 0s 466us/step - loss: 0.5306 - accuracy: 0.7711\n",
      "Epoch 60/100\n",
      "81/81 [==============================] - 0s 456us/step - loss: 0.5288 - accuracy: 0.7648\n",
      "Epoch 61/100\n",
      "81/81 [==============================] - 0s 473us/step - loss: 0.5253 - accuracy: 0.7750\n",
      "Epoch 62/100\n",
      "81/81 [==============================] - 0s 478us/step - loss: 0.5346 - accuracy: 0.7730\n",
      "Epoch 63/100\n",
      "81/81 [==============================] - 0s 491us/step - loss: 0.5244 - accuracy: 0.7734\n",
      "Epoch 64/100\n",
      "81/81 [==============================] - 0s 494us/step - loss: 0.5286 - accuracy: 0.7648\n",
      "Epoch 65/100\n",
      "81/81 [==============================] - 0s 500us/step - loss: 0.5222 - accuracy: 0.7750\n",
      "Epoch 66/100\n",
      "81/81 [==============================] - 0s 605us/step - loss: 0.5200 - accuracy: 0.7676\n",
      "Epoch 67/100\n",
      "81/81 [==============================] - 0s 503us/step - loss: 0.5224 - accuracy: 0.7718\n",
      "Epoch 68/100\n",
      "81/81 [==============================] - 0s 511us/step - loss: 0.5206 - accuracy: 0.7750\n",
      "Epoch 69/100\n",
      "81/81 [==============================] - 0s 504us/step - loss: 0.5168 - accuracy: 0.7773\n",
      "Epoch 70/100\n",
      "81/81 [==============================] - 0s 935us/step - loss: 0.5190 - accuracy: 0.7757\n",
      "Epoch 71/100\n",
      "81/81 [==============================] - 0s 495us/step - loss: 0.5171 - accuracy: 0.7761\n",
      "Epoch 72/100\n",
      "81/81 [==============================] - 0s 468us/step - loss: 0.5122 - accuracy: 0.7777\n",
      "Epoch 73/100\n",
      "81/81 [==============================] - 0s 462us/step - loss: 0.5097 - accuracy: 0.7754\n",
      "Epoch 74/100\n",
      "81/81 [==============================] - 0s 459us/step - loss: 0.5128 - accuracy: 0.7695\n",
      "Epoch 75/100\n",
      "81/81 [==============================] - 0s 461us/step - loss: 0.5090 - accuracy: 0.7711\n",
      "Epoch 76/100\n",
      "81/81 [==============================] - 0s 540us/step - loss: 0.5130 - accuracy: 0.7750\n",
      "Epoch 77/100\n",
      "81/81 [==============================] - 0s 464us/step - loss: 0.5058 - accuracy: 0.7781\n",
      "Epoch 78/100\n",
      "81/81 [==============================] - 0s 466us/step - loss: 0.5041 - accuracy: 0.7820\n",
      "Epoch 79/100\n",
      "81/81 [==============================] - 0s 457us/step - loss: 0.5071 - accuracy: 0.7750\n",
      "Epoch 80/100\n",
      "81/81 [==============================] - 0s 458us/step - loss: 0.5036 - accuracy: 0.7793\n",
      "Epoch 81/100\n",
      "81/81 [==============================] - 0s 463us/step - loss: 0.5005 - accuracy: 0.7796\n",
      "Epoch 82/100\n",
      "81/81 [==============================] - 0s 457us/step - loss: 0.5008 - accuracy: 0.7871\n",
      "Epoch 83/100\n",
      "81/81 [==============================] - 0s 794us/step - loss: 0.5064 - accuracy: 0.7726\n",
      "Epoch 84/100\n",
      "81/81 [==============================] - 0s 471us/step - loss: 0.4989 - accuracy: 0.7812\n",
      "Epoch 85/100\n",
      "81/81 [==============================] - 0s 467us/step - loss: 0.4960 - accuracy: 0.7867\n",
      "Epoch 86/100\n",
      "81/81 [==============================] - 0s 465us/step - loss: 0.4957 - accuracy: 0.7796\n",
      "Epoch 87/100\n",
      "81/81 [==============================] - 0s 465us/step - loss: 0.5042 - accuracy: 0.7773\n",
      "Epoch 88/100\n",
      "81/81 [==============================] - 0s 462us/step - loss: 0.4940 - accuracy: 0.7871\n",
      "Epoch 89/100\n",
      "81/81 [==============================] - 0s 467us/step - loss: 0.4951 - accuracy: 0.7894\n",
      "Epoch 90/100\n",
      "81/81 [==============================] - 0s 458us/step - loss: 0.4969 - accuracy: 0.7867\n",
      "Epoch 91/100\n",
      "81/81 [==============================] - 0s 456us/step - loss: 0.4898 - accuracy: 0.7863\n",
      "Epoch 92/100\n",
      "81/81 [==============================] - 0s 466us/step - loss: 0.4908 - accuracy: 0.7808\n",
      "Epoch 93/100\n",
      "81/81 [==============================] - 0s 463us/step - loss: 0.4883 - accuracy: 0.7941\n",
      "Epoch 94/100\n",
      "81/81 [==============================] - 0s 455us/step - loss: 0.4823 - accuracy: 0.7917\n",
      "Epoch 95/100\n",
      "81/81 [==============================] - 0s 471us/step - loss: 0.5053 - accuracy: 0.7847\n",
      "Epoch 96/100\n",
      "81/81 [==============================] - 0s 779us/step - loss: 0.4875 - accuracy: 0.7921\n",
      "Epoch 97/100\n",
      "81/81 [==============================] - 0s 483us/step - loss: 0.4842 - accuracy: 0.7902\n",
      "Epoch 98/100\n",
      "81/81 [==============================] - 0s 465us/step - loss: 0.4844 - accuracy: 0.7910\n",
      "Epoch 99/100\n",
      "81/81 [==============================] - 0s 462us/step - loss: 0.4832 - accuracy: 0.7906\n",
      "Epoch 100/100\n",
      "81/81 [==============================] - 0s 463us/step - loss: 0.4845 - accuracy: 0.7956\n",
      "21/21 [==============================] - 0s 409us/step - loss: 0.4914 - accuracy: 0.7894\n"
     ]
    }
   ],
   "source": [
    "# lists storing values:\n",
    "# 1. accuracy (how much of the test data was classified correctly)\n",
    "# 2. losses (how much the predicted values ​​deviate from the expected values)\n",
    "cv_accuracy = []\n",
    "cv_loss = []\n",
    "\n",
    "# Create a cross-validation object consisting of 5 parts, mixed before splitting with a random state of 42\n",
    "kf = KFold(n_splits=5, shuffle=True, random_state=42)\n",
    "\n",
    "# iterate through each part of the cross-validation object\n",
    "for train_idx, test_idx in kf.split(X):\n",
    "   # Create variables based on indexes from the currently selected part of the cross-validation object\n",
    "    X_train, X_test = X[train_idx], X[test_idx]\n",
    "    y_train, y_test = y[train_idx], y[test_idx]\n",
    "\n",
    "    # Create model\n",
    "    classifier = Sequential()\n",
    "\n",
    "    # Adding an input layer consisting of 64 neurons, f. activation - RELU\n",
    "    # and an input shape corresponding to X_train.shape[1]\n",
    "    classifier.add(Dense(64, activation = 'relu', input_shape=(X_train.shape[1],)))\n",
    "    # Adding the first hidden layer consisting of 32 neurons and f. activation - RELU\n",
    "    classifier.add(Dense(32, activation = 'relu'))\n",
    "    # Adding a second hidden layer consisting of 16 neurons and f. activation - RELU\n",
    "    classifier.add(Dense(16, activation = 'relu'))\n",
    "    # Adding an output layer consisting of 5 neurons and activation - Softmax\n",
    "    # (because) we have 5 predicted weather conditions\n",
    "    classifier.add(Dense(5, activation = 'softmax'))\n",
    "\n",
    "    # Compilation of the model using the Adam optimizer (with learning rate = 0.001)\n",
    "    # sparse_categorical_crossentropy loss function and accuracy tracking as a metric\n",
    "    classifier.compile(optimizer=Adam(learning_rate=0.001), loss='sparse_categorical_crossentropy', metrics=['accuracy'])\n",
    "\n",
    "    # Set early stopping condition: accuracy tracking, patience = 1,\n",
    "    # and restoring the best weights. In case the accuracy decreases over 10 epochs -\n",
    "    # - then the best weights are restored\n",
    "    early_stopping = EarlyStopping(monitor='accuracy', patience=10, restore_best_weights=True)\n",
    "\n",
    "    # Training the model on training data (X_train and y_train)\n",
    "    # training batch size = 32, number of epochs = 100 and use of early stopping\n",
    "    classifier.fit(X_train, y_train, batch_size = 32, epochs = 100, callbacks=[early_stopping])\n",
    "\n",
    "    # Check the performance of the model by comparing the X_test data with the expected y_test data\n",
    "    test_loss, test_accuracy = classifier.evaluate(X_test, y_test)\n",
    "    # Adding precision to the list (a measure of how much of the test data was classified correctly)\n",
    "    cv_accuracy.append(test_accuracy)\n",
    "    # Adding a loss to the list (a measure of how much the predicted values ​​deviate from the expected values)\n",
    "    cv_loss.append(test_loss)"
   ]
  },
  {
   "cell_type": "markdown",
   "metadata": {},
   "source": [
    "### Walidacja modelu - macierz pomyłek oraz predykcja dla losowych wartości"
   ]
  },
  {
   "cell_type": "code",
   "execution_count": 62,
   "metadata": {},
   "outputs": [
    {
     "name": "stdout",
     "output_type": "stream",
     "text": [
      "Loss function - average value: \u001b[93m0.5281646609306335\u001b[0m\n",
      "Accuracy - average value: \u001b[93m0.7781591176986694\u001b[0m\n"
     ]
    }
   ],
   "source": [
    "print(f'Loss function - average value: \\033[93m{np.mean(cv_loss)}\\033[0m')\n",
    "print(f'Accuracy - average value: \\033[93m{np.mean(cv_accuracy)}\\033[0m')"
   ]
  },
  {
   "cell_type": "code",
   "execution_count": 63,
   "metadata": {},
   "outputs": [
    {
     "name": "stdout",
     "output_type": "stream",
     "text": [
      "21/21 [==============================] - 0s 330us/step\n"
     ]
    },
    {
     "data": {
      "image/png": "[encoded data removed]",
      "text/plain": [
       "<Figure size 640x480 with 2 Axes>"
      ]
     },
     "metadata": {},
     "output_type": "display_data"
    },
    {
     "name": "stdout",
     "output_type": "stream",
     "text": [
      "Accuracy - average value: \u001b[93m0.7781591176986694\u001b[0m\n"
     ]
    }
   ],
   "source": [
    "# Create a confusion matrix and display it\n",
    "# create a y_pred variable containing predicted data for test data\n",
    "y_pred = classifier.predict(X_test)\n",
    "# y_pred - selecting the neuron with the highest prediction probability\n",
    "y_pred = np.argmax(y_pred, axis=1)\n",
    "# creating a confusion matrix based on correct data and predicted data\n",
    "cm = confusion_matrix(y_test, y_pred)\n",
    "# create an object to display the confusion matrix\n",
    "disp = ConfusionMatrixDisplay(cm)\n",
    "# plotting the confusion matrix on the chart\n",
    "disp.plot()\n",
    "# display the chart\n",
    "plt.show()\n",
    "\n",
    "print(f'Accuracy - average value: \\033[93m{np.mean(cv_accuracy)}\\033[0m')"
   ]
  },
  {
   "cell_type": "code",
   "execution_count": 64,
   "metadata": {},
   "outputs": [
    {
     "name": "stdout",
     "output_type": "stream",
     "text": [
      "      precipitation   temp_max   temp_min      wind  weather\n",
      "2569            0.0  15.926415   0.929130  3.279342        0\n",
      "1902            0.0  23.532149   7.979208  0.088079        1\n",
      "724             0.0   6.700000   1.700000  0.800000        4\n",
      "2041            0.0  -1.697657  13.293512  1.456507        0\n",
      "1079            0.0  12.200000   6.700000  5.900000        4\n",
      "\n",
      "1/1 [==============================] - 0s 12ms/step\n",
      "Original weather: \u001b[93mdrizzle\u001b[0m,           Predicted weather: \u001b[93mdrizzle\u001b[0m\n",
      "1/1 [==============================] - 0s 11ms/step\n",
      "Original weather: \u001b[93mfog\u001b[0m,           Predicted weather: \u001b[93mdrizzle\u001b[0m\n",
      "1/1 [==============================] - 0s 10ms/step\n",
      "Original weather: \u001b[93msun\u001b[0m,           Predicted weather: \u001b[93mdrizzle\u001b[0m\n",
      "1/1 [==============================] - 0s 10ms/step\n",
      "Original weather: \u001b[93mdrizzle\u001b[0m,           Predicted weather: \u001b[93mdrizzle\u001b[0m\n",
      "1/1 [==============================] - 0s 11ms/step\n",
      "Original weather: \u001b[93msun\u001b[0m,           Predicted weather: \u001b[93mfog\u001b[0m\n"
     ]
    }
   ],
   "source": [
    "# Prediction for randomly selected 5 data points\n",
    "sample = df.sample(5)\n",
    "print(sample, end='\\n\\n')\n",
    "# iterate through each index of the selected rows\n",
    "for idx in sample.index:\n",
    "    # selecting a weather value from a random row\n",
    "    weather = df.loc[idx]['weather']\n",
    "    # create a y_pred object containing a prediction of the weather type for a given row\n",
    "    y_pred = classifier.predict(np.array(df.loc[idx].drop('weather').values).reshape(1, -1))\n",
    "    # display a comparison of the original weather with the predicted type\n",
    "    print(f'Original weather: \\033[93m{weather_map[weather]}\\033[0m,\\\n",
    "           Predicted weather: \\033[93m{weather_map[np.argmax(y_pred)]}\\033[0m')\n",
    "        "
   ]
  },
  {
   "cell_type": "markdown",
   "metadata": {},
   "source": [
    "## Save the model"
   ]
  },
  {
   "cell_type": "code",
   "execution_count": 65,
   "metadata": {},
   "outputs": [
    {
     "data": {
      "text/html": [
       "<div>\n",
       "<style scoped>\n",
       "    .dataframe tbody tr th:only-of-type {\n",
       "        vertical-align: middle;\n",
       "    }\n",
       "\n",
       "    .dataframe tbody tr th {\n",
       "        vertical-align: top;\n",
       "    }\n",
       "\n",
       "    .dataframe thead th {\n",
       "        text-align: right;\n",
       "    }\n",
       "</style>\n",
       "<table border=\"1\" class=\"dataframe\">\n",
       "  <thead>\n",
       "    <tr style=\"text-align: right;\">\n",
       "      <th></th>\n",
       "      <th>precipitation</th>\n",
       "      <th>temp_max</th>\n",
       "      <th>temp_min</th>\n",
       "      <th>wind</th>\n",
       "      <th>weather</th>\n",
       "    </tr>\n",
       "  </thead>\n",
       "  <tbody>\n",
       "    <tr>\n",
       "      <th>25</th>\n",
       "      <td>4.8</td>\n",
       "      <td>8.9</td>\n",
       "      <td>1.1</td>\n",
       "      <td>4.8</td>\n",
       "      <td>2</td>\n",
       "    </tr>\n",
       "  </tbody>\n",
       "</table>\n",
       "</div>"
      ],
      "text/plain": [
       "    precipitation  temp_max  temp_min  wind  weather\n",
       "25            4.8       8.9       1.1   4.8        2"
      ]
     },
     "execution_count": 65,
     "metadata": {},
     "output_type": "execute_result"
    }
   ],
   "source": [
    "# selecting a random row from the data frame\n",
    "sample = df.sample()\n",
    "# creating variables test_data - independent variables and test_res - dependent variable\n",
    "test_data, test_res = sample[['precipitation', 'temp_max', 'temp_min', 'wind']], sample['weather']\n",
    "sample"
   ]
  },
  {
   "cell_type": "code",
   "execution_count": 66,
   "metadata": {},
   "outputs": [],
   "source": [
    "# save the model as weather_model.h5\n",
    "classifier.save('weather_model.h5')"
   ]
  },
  {
   "cell_type": "markdown",
   "metadata": {},
   "source": [
    "### Loading the model - checking if everything works correctly"
   ]
  },
  {
   "cell_type": "code",
   "execution_count": 67,
   "metadata": {},
   "outputs": [],
   "source": [
    "from keras.models import load_model"
   ]
  },
  {
   "cell_type": "code",
   "execution_count": 68,
   "metadata": {},
   "outputs": [],
   "source": [
    "# load the model into the load_model variable\n",
    "load_model = load_model('weather_model.h5')"
   ]
  },
  {
   "cell_type": "code",
   "execution_count": 69,
   "metadata": {},
   "outputs": [
    {
     "name": "stdout",
     "output_type": "stream",
     "text": [
      "1/1 [==============================] - 0s 28ms/step\n",
      "Original: [2] - rain\n",
      "Predicted: [2] - rain\n"
     ]
    },
    {
     "name": "stderr",
     "output_type": "stream",
     "text": [
      "/var/folders/2z/jzph_r3563xcyq9w7yqt55400000gn/T/ipykernel_43141/860952587.py:7: FutureWarning: Calling int on a single element Series is deprecated and will raise a TypeError in the future. Use int(ser.iloc[0]) instead\n",
      "  print(\"Original:\", test_res.values, '-', weather_map[int(test_res)])\n"
     ]
    }
   ],
   "source": [
    "# creating a before variable containing predicted neuron values ​​for independent variables\n",
    "# (this is an array with the probability of occurrence of a given neuron)\n",
    "pred = load_model.predict(test_data)\n",
    "# assigning the neuron that has the highest probability of occurrence to the pred variable\n",
    "pred = np.argmax(pred, axis=1)\n",
    "# display the value\n",
    "print(\"Original:\", test_res.values, '-', weather_map[int(test_res)])\n",
    "print(\"Predicted:\", pred, '-', weather_map[int(pred)])"
   ]
  }
 ],
 "metadata": {
  "kernelspec": {
   "display_name": "base",
   "language": "python",
   "name": "python3"
  },
  "language_info": {
   "codemirror_mode": {
    "name": "ipython",
    "version": 3
   },
   "file_extension": ".py",
   "mimetype": "text/x-python",
   "name": "python",
   "nbconvert_exporter": "python",
   "pygments_lexer": "ipython3",
   "version": "3.11.5"
  }
 },
 "nbformat": 4,
 "nbformat_minor": 2
}
